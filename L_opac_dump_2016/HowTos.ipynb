{
 "cells": [
  {
   "cell_type": "markdown",
   "metadata": {},
   "source": [
    "# How to Thrust "
   ]
  },
  {
   "cell_type": "code",
   "execution_count": null,
   "metadata": {
    "collapsed": true
   },
   "outputs": [],
   "source": [
    "import pycuda.autoinit, pycuda.driver\n",
    "\n",
    "from pycuda.compiler import SourceModule\n",
    "\n",
    "import numpy\n",
    "\n",
    "import time\n",
    "\n",
    "\n",
    "\n",
    "\n",
    "\n",
    "mod = SourceModule('''\n",
    "\n",
    "#include <thrust/random.h>\n",
    "#include <thrust/copy.h>\n",
    "#include <thrust/execution_policy.h>\n",
    "\n",
    "\n",
    "extern \"C\" {\n",
    "\n",
    "\n",
    "\n",
    "__global__ void test_rand(int numRand, float *samples)\n",
    "\n",
    "{\n",
    "\n",
    "  int threadID = blockIdx.x * gridDim.x + threadIdx.x;\n",
    "\n",
    "  thrust::default_random_engine rng;\n",
    "\n",
    "  rng.discard(numRand * threadID);\n",
    "\n",
    "\n",
    "\n",
    "  thrust::uniform_real_distribution<float> rand01(0,1);\n",
    "\n",
    "\n",
    "\n",
    "  float acc=0.0;\n",
    "\n",
    "  for (int i=0; i < numRand; i++) {\n",
    "\n",
    "\tfloat r = rand01(rng);\n",
    "\n",
    "\tacc += r;\n",
    "\n",
    "  }\n",
    "\n",
    "  thrust::copy(thrust::device, samples, samples +2, samples + 3);\n",
    "\n",
    "  samples[threadID] = acc/numRand;  // Normalize back to range [0,1)\n",
    "\n",
    "}\n",
    "\n",
    "\n",
    "\n",
    "}\n",
    "\n",
    "''', no_extern_c=True)\n",
    "\n",
    "\n",
    "\n",
    "test_rand = mod.get_function('test_rand')\n",
    "\n",
    "\n",
    "\n",
    "### Compute many sums of random numbers\n",
    "\n",
    "numRand = 512\n",
    "\n",
    "threads_per_block = 256\n",
    "\n",
    "blocks = 512\n",
    "\n",
    "threads = threads_per_block * blocks\n",
    "\n",
    "print('Sampling sum of', numRand, 'random numbers', threads, 'times.')\n",
    "\n",
    "samples = numpy.zeros(threads, dtype=numpy.float32)\n",
    "\n",
    "\n",
    "\n",
    "start = time.time()\n",
    "\n",
    "test_rand(numpy.int32(numRand), pycuda.driver.Out(samples), grid=(blocks,1), block=(threads_per_block,1,1))\n",
    "\n",
    "stop = time.time()\n",
    "\n",
    "print('Execution+copy time = %1.1f msec' % ( (stop-start) * 1000.0,))\n",
    "\n",
    "\n",
    "\n",
    "### Look at results in a lame text-only way\n",
    "\n",
    "### Squint hard!  Central Limit Theorem says this is approximately a Gaussian.\n",
    "\n",
    "hist, bin_edges = numpy.histogram(samples, bins=20, range=(0.3, 0.7))\n",
    "\n",
    "print('Distribution:', hist)"
   ]
  },
  {
   "cell_type": "markdown",
   "metadata": {
    "collapsed": true
   },
   "source": [
    "## How to PyCuda \n"
   ]
  },
  {
   "cell_type": "code",
   "execution_count": null,
   "metadata": {
    "collapsed": true
   },
   "outputs": [],
   "source": []
  },
  {
   "cell_type": "code",
   "execution_count": null,
   "metadata": {
    "collapsed": true
   },
   "outputs": [],
   "source": []
  },
  {
   "cell_type": "code",
   "execution_count": 11,
   "metadata": {
    "collapsed": true
   },
   "outputs": [],
   "source": [
    "import pycuda.driver as drv\n",
    "import pycuda.tools\n",
    "import pycuda.autoinit\n",
    "import numpy\n",
    "from pycuda.compiler import SourceModule\n",
    "import pycuda.gpuarray as gpuarray\n",
    "import pycuda.cumath\n",
    "from pycuda.elementwise import ElementwiseKernel"
   ]
  },
  {
   "cell_type": "code",
   "execution_count": null,
   "metadata": {
    "collapsed": true
   },
   "outputs": [],
   "source": [
    "import os\n",
    "os.environ[\"PATH\"] = \"/usr/local/sbin:/usr/local/bin:/usr/sbin:/sbin:/bin:/usr/local/cuda-7.5/bin:/usr/local/cuda-7.5\""
   ]
  },
  {
   "cell_type": "code",
   "execution_count": null,
   "metadata": {
    "collapsed": true
   },
   "outputs": [],
   "source": [
    "os.environ[\"LD_LIBRARY_PATH\"] = \"/usr/local/cuda-7.5/lib64\""
   ]
  },
  {
   "cell_type": "code",
   "execution_count": null,
   "metadata": {
    "collapsed": true
   },
   "outputs": [],
   "source": [
    "inc_2d = mod.get_function(\"inc_2d\")\n",
    "# create an array of 1s\n",
    "# blockspergrid\n",
    "# threadsperblock\n",
    "start.record() # start timing\n",
    "st = time()\n",
    "inc_2d(drv.Out(an_array), numpy.int32(an_array.shape[0]), \n",
    "                   grid=(blockspergrid,), block= (threadsperblock,1,1))\n",
    "print(\"Calc time \", time()-st)\n",
    "end.record() # end timing\n",
    "# calculate the run length\n",
    "end.synchronize()\n",
    "secs = start.time_till(end)*1e-3\n",
    "print(\"C++ CUDA time:\")\n",
    "print(\"%fs\" % secs)"
   ]
  },
  {
   "cell_type": "code",
   "execution_count": null,
   "metadata": {
    "collapsed": true
   },
   "outputs": [],
   "source": [
    "# create two timers so we can speed-test each approach\n",
    "start = drv.Event()\n",
    "end = drv.Event()\n",
    "\n",
    "######################\n",
    "# SourceModele SECTION\n",
    "# We write the C code and the indexing and we have lots of control\n",
    "\n",
    "mod = SourceModule(\"\"\"\n",
    "__global__ void do_work(int* dest, int n1)\n",
    "{\n",
    "    const int i = blockDim.x*blockIdx.x + threadIdx.x;\n",
    "      if (i < n1)\n",
    "          dest[i] += 1;\n",
    "}\n",
    "\n",
    "__global__ void inc_2d(int* dest, int n1)\n",
    "{\n",
    "  const int i = blockDim.x*blockIdx.x + threadIdx.x;\n",
    "  if (threadIdx.x == 0) {\n",
    "        do_work<<<1, 32>>>(dest, n1);\n",
    "        cudaThreadSynchronize();\n",
    "    }\n",
    " __syncthreads();\n",
    "}\n",
    "\"\"\")"
   ]
  },
  {
   "cell_type": "markdown",
   "metadata": {},
   "source": [
    "## Numba CUDA "
   ]
  },
  {
   "cell_type": "code",
   "execution_count": null,
   "metadata": {
    "collapsed": true
   },
   "outputs": [],
   "source": [
    "@cuda.jit\n",
    "def increment_a_2D_array(an_array):\n",
    "    x = cuda.grid(1)\n",
    "    if x < an_array.shape[0]:\n",
    "        an_array[x] += 1"
   ]
  },
  {
   "cell_type": "code",
   "execution_count": null,
   "metadata": {
    "collapsed": true
   },
   "outputs": [],
   "source": [
    "threadsperblock = 4\n",
    "blockspergrid_x = math.ceil(an_array.shape[0] / threadsperblock)\n",
    "#blockspergrid_y = math.ceil(an_array.shape[1] / threadsperblock[1])\n",
    "blockspergrid = blockspergrid_x # , blockspergrid_y)\n",
    "start = time()\n",
    "increment_a_2D_array[blockspergrid, threadsperblock](an_array)\n",
    "print(\"Numba time CUDA \", time()-start)"
   ]
  },
  {
   "cell_type": "code",
   "execution_count": null,
   "metadata": {
    "collapsed": true
   },
   "outputs": [],
   "source": []
  },
  {
   "cell_type": "code",
   "execution_count": 12,
   "metadata": {
    "collapsed": false
   },
   "outputs": [
    {
     "name": "stdout",
     "output_type": "stream",
     "text": [
      "Populating the interactive namespace from numpy and matplotlib\n"
     ]
    },
    {
     "name": "stderr",
     "output_type": "stream",
     "text": [
      "WARNING: pylab import has clobbered these variables: ['axis', 'e', 'Figure', 'Annotation']\n",
      "`%matplotlib` prevents importing * from pylab and numpy\n"
     ]
    }
   ],
   "source": [
    "%pylab inline"
   ]
  },
  {
   "cell_type": "code",
   "execution_count": 13,
   "metadata": {
    "collapsed": false
   },
   "outputs": [
    {
     "ename": "ValueError",
     "evalue": "bad marshal data (unknown type code)",
     "output_type": "error",
     "traceback": [
      "\u001b[1;31m---------------------------------------------------------------------------\u001b[0m",
      "\u001b[1;31mValueError\u001b[0m                                Traceback (most recent call last)",
      "\u001b[1;32m<ipython-input-13-6d1098de51de>\u001b[0m in \u001b[0;36m<module>\u001b[1;34m()\u001b[0m\n\u001b[1;32m----> 1\u001b[1;33m \u001b[1;32mimport\u001b[0m \u001b[0mnumba\u001b[0m\u001b[1;33m\u001b[0m\u001b[0m\n\u001b[0m",
      "\u001b[1;32m/home/bulat/anaconda3/lib/python3.5/site-packages/numba/__init__.py\u001b[0m in \u001b[0;36m<module>\u001b[1;34m()\u001b[0m\n\u001b[0;32m      7\u001b[0m \u001b[1;32mimport\u001b[0m \u001b[0msys\u001b[0m\u001b[1;33m\u001b[0m\u001b[0m\n\u001b[0;32m      8\u001b[0m \u001b[1;33m\u001b[0m\u001b[0m\n\u001b[1;32m----> 9\u001b[1;33m \u001b[1;32mfrom\u001b[0m \u001b[1;33m.\u001b[0m \u001b[1;32mimport\u001b[0m \u001b[0mruntests\u001b[0m\u001b[1;33m,\u001b[0m \u001b[0mdecorators\u001b[0m\u001b[1;33m\u001b[0m\u001b[0m\n\u001b[0m\u001b[0;32m     10\u001b[0m \u001b[1;32mfrom\u001b[0m \u001b[1;33m.\u001b[0m \u001b[1;32mimport\u001b[0m \u001b[0merrors\u001b[0m\u001b[1;33m,\u001b[0m \u001b[0mspecial\u001b[0m\u001b[1;33m,\u001b[0m \u001b[0mtypes\u001b[0m\u001b[1;33m,\u001b[0m \u001b[0mconfig\u001b[0m\u001b[1;33m\u001b[0m\u001b[0m\n\u001b[0;32m     11\u001b[0m \u001b[1;33m\u001b[0m\u001b[0m\n",
      "\u001b[1;32m/home/bulat/anaconda3/lib/python3.5/site-packages/numba/decorators.py\u001b[0m in \u001b[0;36m<module>\u001b[1;34m()\u001b[0m\n\u001b[0;32m      8\u001b[0m \u001b[1;32mfrom\u001b[0m \u001b[1;33m.\u001b[0m \u001b[1;32mimport\u001b[0m \u001b[0mconfig\u001b[0m\u001b[1;33m,\u001b[0m \u001b[0msigutils\u001b[0m\u001b[1;33m\u001b[0m\u001b[0m\n\u001b[0;32m      9\u001b[0m \u001b[1;32mfrom\u001b[0m \u001b[1;33m.\u001b[0m\u001b[0merrors\u001b[0m \u001b[1;32mimport\u001b[0m \u001b[0mDeprecationError\u001b[0m\u001b[1;33m\u001b[0m\u001b[0m\n\u001b[1;32m---> 10\u001b[1;33m \u001b[1;32mfrom\u001b[0m \u001b[1;33m.\u001b[0m\u001b[0mtargets\u001b[0m \u001b[1;32mimport\u001b[0m \u001b[0mregistry\u001b[0m\u001b[1;33m\u001b[0m\u001b[0m\n\u001b[0m\u001b[0;32m     11\u001b[0m \u001b[1;33m\u001b[0m\u001b[0m\n\u001b[0;32m     12\u001b[0m \u001b[1;31m# -----------------------------------------------------------------------------\u001b[0m\u001b[1;33m\u001b[0m\u001b[1;33m\u001b[0m\u001b[0m\n",
      "\u001b[1;32m/home/bulat/anaconda3/lib/python3.5/site-packages/numba/targets/registry.py\u001b[0m in \u001b[0;36m<module>\u001b[1;34m()\u001b[0m\n\u001b[0;32m      4\u001b[0m \u001b[1;32mimport\u001b[0m \u001b[0mthreading\u001b[0m\u001b[1;33m\u001b[0m\u001b[0m\n\u001b[0;32m      5\u001b[0m \u001b[1;33m\u001b[0m\u001b[0m\n\u001b[1;32m----> 6\u001b[1;33m \u001b[1;32mfrom\u001b[0m \u001b[1;33m.\u001b[0m \u001b[1;32mimport\u001b[0m \u001b[0mcpu\u001b[0m\u001b[1;33m\u001b[0m\u001b[0m\n\u001b[0m\u001b[0;32m      7\u001b[0m \u001b[1;32mfrom\u001b[0m \u001b[1;33m.\u001b[0m\u001b[0mdescriptors\u001b[0m \u001b[1;32mimport\u001b[0m \u001b[0mTargetDescriptor\u001b[0m\u001b[1;33m\u001b[0m\u001b[0m\n\u001b[0;32m      8\u001b[0m \u001b[1;32mfrom\u001b[0m \u001b[1;33m.\u001b[0m\u001b[1;33m.\u001b[0m \u001b[1;32mimport\u001b[0m \u001b[0mdispatcher\u001b[0m\u001b[1;33m,\u001b[0m \u001b[0mutils\u001b[0m\u001b[1;33m,\u001b[0m \u001b[0mtyping\u001b[0m\u001b[1;33m\u001b[0m\u001b[0m\n",
      "\u001b[1;32m/home/bulat/anaconda3/lib/python3.5/site-packages/numba/targets/cpu.py\u001b[0m in \u001b[0;36m<module>\u001b[1;34m()\u001b[0m\n\u001b[0;32m     11\u001b[0m \u001b[1;32mfrom\u001b[0m \u001b[0mnumba\u001b[0m \u001b[1;32mimport\u001b[0m \u001b[0mutils\u001b[0m\u001b[1;33m,\u001b[0m \u001b[0mcgutils\u001b[0m\u001b[1;33m,\u001b[0m \u001b[0mtypes\u001b[0m\u001b[1;33m\u001b[0m\u001b[0m\n\u001b[0;32m     12\u001b[0m \u001b[1;32mfrom\u001b[0m \u001b[0mnumba\u001b[0m\u001b[1;33m.\u001b[0m\u001b[0mutils\u001b[0m \u001b[1;32mimport\u001b[0m \u001b[0mcached_property\u001b[0m\u001b[1;33m\u001b[0m\u001b[0m\n\u001b[1;32m---> 13\u001b[1;33m \u001b[1;32mfrom\u001b[0m \u001b[0mnumba\u001b[0m\u001b[1;33m.\u001b[0m\u001b[0mtargets\u001b[0m \u001b[1;32mimport\u001b[0m \u001b[0mcallconv\u001b[0m\u001b[1;33m,\u001b[0m \u001b[0mcodegen\u001b[0m\u001b[1;33m,\u001b[0m \u001b[0mexternals\u001b[0m\u001b[1;33m,\u001b[0m \u001b[0mintrinsics\u001b[0m\u001b[1;33m,\u001b[0m \u001b[0mlistobj\u001b[0m\u001b[1;33m,\u001b[0m \u001b[0msetobj\u001b[0m\u001b[1;33m\u001b[0m\u001b[0m\n\u001b[0m\u001b[0;32m     14\u001b[0m \u001b[1;32mfrom\u001b[0m \u001b[1;33m.\u001b[0m\u001b[0moptions\u001b[0m \u001b[1;32mimport\u001b[0m \u001b[0mTargetOptions\u001b[0m\u001b[1;33m\u001b[0m\u001b[0m\n\u001b[0;32m     15\u001b[0m \u001b[1;32mfrom\u001b[0m \u001b[0mnumba\u001b[0m\u001b[1;33m.\u001b[0m\u001b[0mruntime\u001b[0m \u001b[1;32mimport\u001b[0m \u001b[0mrtsys\u001b[0m\u001b[1;33m\u001b[0m\u001b[0m\n",
      "\u001b[1;32m/home/bulat/anaconda3/lib/python3.5/importlib/_bootstrap.py\u001b[0m in \u001b[0;36m_find_and_load\u001b[1;34m(name, import_)\u001b[0m\n",
      "\u001b[1;32m/home/bulat/anaconda3/lib/python3.5/importlib/_bootstrap.py\u001b[0m in \u001b[0;36m_find_and_load_unlocked\u001b[1;34m(name, import_)\u001b[0m\n",
      "\u001b[1;32m/home/bulat/anaconda3/lib/python3.5/importlib/_bootstrap.py\u001b[0m in \u001b[0;36m_load_unlocked\u001b[1;34m(spec)\u001b[0m\n",
      "\u001b[1;32m/home/bulat/anaconda3/lib/python3.5/importlib/_bootstrap_external.py\u001b[0m in \u001b[0;36mexec_module\u001b[1;34m(self, module)\u001b[0m\n",
      "\u001b[1;32m/home/bulat/anaconda3/lib/python3.5/importlib/_bootstrap_external.py\u001b[0m in \u001b[0;36mget_code\u001b[1;34m(self, fullname)\u001b[0m\n",
      "\u001b[1;32m/home/bulat/anaconda3/lib/python3.5/importlib/_bootstrap_external.py\u001b[0m in \u001b[0;36m_compile_bytecode\u001b[1;34m(data, name, bytecode_path, source_path)\u001b[0m\n",
      "\u001b[1;31mValueError\u001b[0m: bad marshal data (unknown type code)"
     ]
    }
   ],
   "source": [
    "import numba"
   ]
  },
  {
   "cell_type": "code",
   "execution_count": 14,
   "metadata": {
    "collapsed": false
   },
   "outputs": [
    {
     "ename": "ValueError",
     "evalue": "bad marshal data (invalid reference)",
     "output_type": "error",
     "traceback": [
      "\u001b[1;31m---------------------------------------------------------------------------\u001b[0m",
      "\u001b[1;31mValueError\u001b[0m                                Traceback (most recent call last)",
      "\u001b[1;32m<ipython-input-14-43f2a16bc275>\u001b[0m in \u001b[0;36m<module>\u001b[1;34m()\u001b[0m\n\u001b[1;32m----> 1\u001b[1;33m \u001b[1;32mfrom\u001b[0m \u001b[0mnumba\u001b[0m \u001b[1;32mimport\u001b[0m \u001b[0mcuda\u001b[0m\u001b[1;33m\u001b[0m\u001b[0m\n\u001b[0m",
      "\u001b[1;32m/home/bulat/anaconda3/lib/python3.5/site-packages/numba/cuda/__init__.py\u001b[0m in \u001b[0;36m<module>\u001b[1;34m()\u001b[0m\n\u001b[0;32m      7\u001b[0m     \u001b[1;32mfrom\u001b[0m \u001b[1;33m.\u001b[0m\u001b[0msimulator_init\u001b[0m \u001b[1;32mimport\u001b[0m \u001b[1;33m*\u001b[0m\u001b[1;33m\u001b[0m\u001b[0m\n\u001b[0;32m      8\u001b[0m \u001b[1;32melse\u001b[0m\u001b[1;33m:\u001b[0m\u001b[1;33m\u001b[0m\u001b[0m\n\u001b[1;32m----> 9\u001b[1;33m     \u001b[1;32mfrom\u001b[0m \u001b[1;33m.\u001b[0m\u001b[0mdevice_init\u001b[0m \u001b[1;32mimport\u001b[0m \u001b[1;33m*\u001b[0m\u001b[1;33m\u001b[0m\u001b[0m\n\u001b[0m\u001b[0;32m     10\u001b[0m     \u001b[1;32mfrom\u001b[0m \u001b[1;33m.\u001b[0m\u001b[0mdevice_init\u001b[0m \u001b[1;32mimport\u001b[0m \u001b[0m_auto_device\u001b[0m\u001b[1;33m\u001b[0m\u001b[0m\n\u001b[0;32m     11\u001b[0m \u001b[1;33m\u001b[0m\u001b[0m\n",
      "\u001b[1;32m/home/bulat/anaconda3/lib/python3.5/site-packages/numba/cuda/device_init.py\u001b[0m in \u001b[0;36m<module>\u001b[1;34m()\u001b[0m\n\u001b[0;32m     11\u001b[0m \u001b[1;32mfrom\u001b[0m \u001b[1;33m.\u001b[0m\u001b[0merrors\u001b[0m \u001b[1;32mimport\u001b[0m \u001b[0mKernelRuntimeError\u001b[0m\u001b[1;33m\u001b[0m\u001b[0m\n\u001b[0;32m     12\u001b[0m \u001b[1;33m\u001b[0m\u001b[0m\n\u001b[1;32m---> 13\u001b[1;33m \u001b[1;32mfrom\u001b[0m \u001b[1;33m.\u001b[0m\u001b[0mdecorators\u001b[0m \u001b[1;32mimport\u001b[0m \u001b[0mjit\u001b[0m\u001b[1;33m,\u001b[0m \u001b[0mautojit\u001b[0m\u001b[1;33m,\u001b[0m \u001b[0mdeclare_device\u001b[0m\u001b[1;33m\u001b[0m\u001b[0m\n\u001b[0m\u001b[0;32m     14\u001b[0m \u001b[1;32mfrom\u001b[0m \u001b[1;33m.\u001b[0m\u001b[0mapi\u001b[0m \u001b[1;32mimport\u001b[0m \u001b[1;33m*\u001b[0m\u001b[1;33m\u001b[0m\u001b[0m\n\u001b[0;32m     15\u001b[0m \u001b[1;32mfrom\u001b[0m \u001b[1;33m.\u001b[0m\u001b[0mapi\u001b[0m \u001b[1;32mimport\u001b[0m \u001b[0m_auto_device\u001b[0m\u001b[1;33m\u001b[0m\u001b[0m\n",
      "\u001b[1;32m/home/bulat/anaconda3/lib/python3.5/site-packages/numba/cuda/decorators.py\u001b[0m in \u001b[0;36m<module>\u001b[1;34m()\u001b[0m\n\u001b[0;32m      2\u001b[0m \u001b[1;32mfrom\u001b[0m \u001b[0mnumba\u001b[0m \u001b[1;32mimport\u001b[0m \u001b[0mconfig\u001b[0m\u001b[1;33m,\u001b[0m \u001b[0msigutils\u001b[0m\u001b[1;33m,\u001b[0m \u001b[0mtypes\u001b[0m\u001b[1;33m\u001b[0m\u001b[0m\n\u001b[0;32m      3\u001b[0m \u001b[1;32mfrom\u001b[0m \u001b[0mwarnings\u001b[0m \u001b[1;32mimport\u001b[0m \u001b[0mwarn\u001b[0m\u001b[1;33m\u001b[0m\u001b[0m\n\u001b[1;32m----> 4\u001b[1;33m from .compiler import (compile_kernel, compile_device, declare_device_function,\n\u001b[0m\u001b[0;32m      5\u001b[0m                        AutoJitCUDAKernel, compile_device_template)\n\u001b[0;32m      6\u001b[0m \u001b[1;32mfrom\u001b[0m \u001b[1;33m.\u001b[0m\u001b[0msimulator\u001b[0m\u001b[1;33m.\u001b[0m\u001b[0mkernel\u001b[0m \u001b[1;32mimport\u001b[0m \u001b[0mFakeCUDAKernel\u001b[0m\u001b[1;33m\u001b[0m\u001b[0m\n",
      "\u001b[1;32m/home/bulat/anaconda3/lib/python3.5/importlib/_bootstrap.py\u001b[0m in \u001b[0;36m_find_and_load\u001b[1;34m(name, import_)\u001b[0m\n",
      "\u001b[1;32m/home/bulat/anaconda3/lib/python3.5/importlib/_bootstrap.py\u001b[0m in \u001b[0;36m_find_and_load_unlocked\u001b[1;34m(name, import_)\u001b[0m\n",
      "\u001b[1;32m/home/bulat/anaconda3/lib/python3.5/importlib/_bootstrap.py\u001b[0m in \u001b[0;36m_load_unlocked\u001b[1;34m(spec)\u001b[0m\n",
      "\u001b[1;32m/home/bulat/anaconda3/lib/python3.5/importlib/_bootstrap_external.py\u001b[0m in \u001b[0;36mexec_module\u001b[1;34m(self, module)\u001b[0m\n",
      "\u001b[1;32m/home/bulat/anaconda3/lib/python3.5/importlib/_bootstrap_external.py\u001b[0m in \u001b[0;36mget_code\u001b[1;34m(self, fullname)\u001b[0m\n",
      "\u001b[1;32m/home/bulat/anaconda3/lib/python3.5/importlib/_bootstrap_external.py\u001b[0m in \u001b[0;36m_compile_bytecode\u001b[1;34m(data, name, bytecode_path, source_path)\u001b[0m\n",
      "\u001b[1;31mValueError\u001b[0m: bad marshal data (invalid reference)"
     ]
    }
   ],
   "source": [
    "from numba import cuda"
   ]
  },
  {
   "cell_type": "code",
   "execution_count": null,
   "metadata": {
    "collapsed": true
   },
   "outputs": [],
   "source": []
  },
  {
   "cell_type": "code",
   "execution_count": null,
   "metadata": {
    "collapsed": false
   },
   "outputs": [],
   "source": [
    "import sys\n",
    "print(sys.path)"
   ]
  },
  {
   "cell_type": "code",
   "execution_count": null,
   "metadata": {
    "collapsed": true
   },
   "outputs": [],
   "source": [
    "sys.path.append('/usr/local/cuda-7.5/bin')\n",
    "sys.path.append('/usr/local/cuda-7.5/lib')"
   ]
  },
  {
   "cell_type": "code",
   "execution_count": null,
   "metadata": {
    "collapsed": false
   },
   "outputs": [],
   "source": [
    "print(sys.path)"
   ]
  },
  {
   "cell_type": "code",
   "execution_count": null,
   "metadata": {
    "collapsed": true
   },
   "outputs": [],
   "source": []
  },
  {
   "cell_type": "code",
   "execution_count": null,
   "metadata": {
    "collapsed": false
   },
   "outputs": [],
   "source": [
    "\n",
    "from accelerate.cuda.blas import Blas\n",
    "import numpy as np\n",
    "from timeit import default_timer as timer\n",
    "\n",
    "N = 128     # no. of rows/cols\n",
    "\n",
    "def gemm_v1():\n",
    "    '''\n",
    "    Note that all arrays are in Fortran order.\n",
    "    '''\n",
    "    print(\"Version 1\".center(80, '='))\n",
    "    # Prepare arrays for input\n",
    "    A = np.array(np.arange(N ** 2, dtype=np.float32).reshape(N, N), order='F')\n",
    "    B = np.array(np.arange(N) + 10, dtype=A.dtype, order='F')\n",
    "    D = np.zeros_like(A, order='F')\n",
    "\n",
    "    # NumPy\n",
    "    start = timer()\n",
    "    E = np.dot(A, np.diag(B))\n",
    "    numpy_time = timer() - start\n",
    "    print(\"Numpy took %f seconds\" % numpy_time)\n",
    "\n",
    "    # cuBLAS\n",
    "    blas = Blas()\n",
    "\n",
    "    start = timer()\n",
    "    blas.gemm('N', 'N', N, N, N, 1.0, A, np.diag(B), 1.0, D)\n",
    "    cuda_time = timer() - start\n",
    "\n",
    "    print(\"CUBLAS took %f seconds\" % cuda_time)\n",
    "    diff = np.abs(D - E)\n",
    "    print(\"Maximum error %f\" % np.max(diff))\n",
    "\n",
    "\n",
    "def gemm_v2():\n",
    "    \"\"\"\n",
    "    Let GEMM transpose the input matrices so that they can be in C order,\n",
    "    originally.  Note that the output matrix is still in Fortran array.\n",
    "    The string arguments in gemm tells it to apply transformation on the input\n",
    "    matrices.\n",
    "    See argument description in:\n",
    "        http://docs.continuum.io/accelerate/cublas#blas-level-2\n",
    "    \"\"\"\n",
    "    print(\"Version 2\".center(80, '='))\n",
    "    # Prepare arrays for input\n",
    "    A = np.array(np.arange(N ** 2, dtype=np.float32).reshape(N, N))\n",
    "    B = np.array(np.arange(N) + 10, dtype=A.dtype)\n",
    "    D = np.zeros_like(A, order='F')\n",
    "\n",
    "    # NumPy\n",
    "    start = timer()\n",
    "    E = np.dot(A, np.diag(B))\n",
    "    numpy_time = timer() - start\n",
    "    print(\"Numpy took %f seconds\" % numpy_time)\n",
    "\n",
    "    # cuBLAS\n",
    "    blas = Blas()\n",
    "\n",
    "    start = timer()\n",
    "    blas.gemm('T', 'T', N, N, N, 1.0, A, np.diag(B), 1.0, D)\n",
    "    cuda_time = timer() - start\n",
    "\n",
    "    print(\"CUBLAS took %f seconds\" % cuda_time)\n",
    "    diff = np.abs(D - E)\n",
    "    print(\"Maximum error %f\" % np.max(diff))\n",
    "\n",
    "\n",
    "\n",
    "gemm_v1()\n",
    "gemm_v2()\n",
    "\n"
   ]
  },
  {
   "cell_type": "code",
   "execution_count": null,
   "metadata": {
    "collapsed": false
   },
   "outputs": [],
   "source": [
    "from pycuda.driver import get_version\n",
    "print(get_version())\n"
   ]
  },
  {
   "cell_type": "code",
   "execution_count": null,
   "metadata": {
    "collapsed": true
   },
   "outputs": [],
   "source": [
    "import os\n",
    "os.environ[\"PATH\"] = \"/usr/bin:/usr/local/sbin:/usr/local/bin:/usr/sbin:/sbin:/bin:/usr/local/cuda-7.5/bin:/usr/local/cuda-7.5\""
   ]
  },
  {
   "cell_type": "code",
   "execution_count": null,
   "metadata": {
    "collapsed": true
   },
   "outputs": [],
   "source": [
    "os.environ[\"LD_LIBRARY_PATH\"] = \"/usr/local/cuda-7.5/lib64\""
   ]
  },
  {
   "cell_type": "code",
   "execution_count": null,
   "metadata": {
    "collapsed": false
   },
   "outputs": [],
   "source": [
    "os.environ[\"PATH\"] = \"$PATH:/usr/bin\""
   ]
  },
  {
   "cell_type": "code",
   "execution_count": null,
   "metadata": {
    "collapsed": true
   },
   "outputs": [],
   "source": [
    "alias show echo"
   ]
  },
  {
   "cell_type": "code",
   "execution_count": null,
   "metadata": {
    "collapsed": false
   },
   "outputs": [],
   "source": [
    "show $PATH"
   ]
  },
  {
   "cell_type": "code",
   "execution_count": null,
   "metadata": {
    "collapsed": false
   },
   "outputs": [],
   "source": [
    "# SimpleSpeedTest.py\n",
    "\n",
    "# Very simple speed testing code\n",
    "# Shows you how to run a loop over sin() using different methods\n",
    "# with a note of the time each method takes\n",
    "# For the GPU this uses SourceModule, ElementwiseKernel, GPUArray\n",
    "# For the CPU this uses numpy\n",
    "# Ian@IanOzsvald.com\n",
    "\n",
    "# Using a WinXP Intel Core2 Duo 2.66GHz CPU (1 CPU used)\n",
    "# with a 9800GT GPU I get the following timings (smaller is better):\n",
    "#\n",
    "# Using nbr_values == 8192\n",
    "# Calculating 100000 iterations\n",
    "# SourceModule time and first three results:\n",
    "# 0.166590s, [ 0.005477  0.005477  0.005477]\n",
    "# Elementwise time and first three results:\n",
    "# 0.171657s, [ 0.005477  0.005477  0.005477]\n",
    "# Elementwise Python looping time and first three results:\n",
    "# 1.487470s, [ 0.005477  0.005477  0.005477]\n",
    "# GPUArray time and first three results:\n",
    "# 4.740007s, [ 0.005477  0.005477  0.005477]\n",
    "# CPU time and first three results:\n",
    "# 32.933660s, [ 0.005477  0.005477  0.005477]\n",
    "#\n",
    "# \n",
    "# Using Win 7 x64, GTX 470 GPU, X5650 Xeon,\n",
    "# Driver v301.42, CUDA 4.2, Python 2.7 x64,\n",
    "# PyCuda 2012.1 gave the following results:\n",
    "#\n",
    "# Using nbr_values == 8192\n",
    "# Calculating 100000 iterations\n",
    "# SourceModule time and first three results:\n",
    "# 0.058321s, [ 0.005477  0.005477  0.005477]\n",
    "# Elementwise time and first three results:\n",
    "# 0.102110s, [ 0.005477  0.005477  0.005477]\n",
    "# Elementwise Python looping time and first three results:\n",
    "# 2.428810s, [ 0.005477  0.005477  0.005477]\n",
    "# GPUArray time and first three results:\n",
    "# 8.421861s, [ 0.005477  0.005477  0.005477]\n",
    "# CPU time measured using :\n",
    "# 5.905661s, [ 0.005477  0.005477  0.005477]\n",
    "\n",
    "\n",
    "import pycuda.driver as drv\n",
    "import pycuda.tools\n",
    "import pycuda.autoinit\n",
    "import numpy\n",
    "from pycuda.compiler import SourceModule\n",
    "import pycuda.gpuarray as gpuarray\n",
    "import pycuda.cumath\n",
    "from pycuda.elementwise import ElementwiseKernel\n",
    "\n",
    "blocks = 64\n",
    "block_size = 128\n",
    "nbr_values = blocks * block_size\n",
    "\n",
    "print(\"Using nbr_values ==\", nbr_values)\n",
    "\n",
    "# Number of iterations for the calculations,\n",
    "# 100 is very quick, 2000000 will take a while\n",
    "n_iter = 100000\n",
    "print(\"Calculating %d iterations\" % (n_iter))\n",
    "\n",
    "# create two timers so we can speed-test each approach\n",
    "start = drv.Event()\n",
    "end = drv.Event()\n",
    "\n",
    "######################\n",
    "# SourceModele SECTION\n",
    "# We write the C code and the indexing and we have lots of control\n",
    "\n",
    "mod = SourceModule(\"\"\"\n",
    "__global__ void gpusin(float *dest, float *a, int n_iter)\n",
    "{\n",
    "  const int i = blockDim.x*blockIdx.x + threadIdx.x;\n",
    "  for(int n = 0; n < n_iter; n++) {\n",
    "    a[i] = sin(a[i]);\n",
    "  }\n",
    "  dest[i] = a[i];\n",
    "}\n",
    "\"\"\")\n",
    "\n",
    "gpusin = mod.get_function(\"gpusin\")\n",
    "\n",
    "# create an array of 1s\n",
    "a = numpy.ones(nbr_values).astype(numpy.float32)\n",
    "# create a destination array that will receive the result\n",
    "dest = numpy.zeros_like(a)\n",
    "\n",
    "start.record() # start timing\n",
    "gpusin(drv.Out(dest), drv.In(a), numpy.int32(n_iter), grid=(blocks,1), block=(block_size,1,1) )\n",
    "end.record() # end timing\n",
    "# calculate the run length\n",
    "end.synchronize()\n",
    "secs = start.time_till(end)*1e-3\n",
    "print(\"SourceModule time and first three results:\")\n",
    "print(\"%fs, %s\" % (secs, str(dest[:3])))\n",
    "\n",
    "\n",
    "#####################\n",
    "# Elementwise SECTION\n",
    "# use an ElementwiseKernel with sin in a for loop all in C call from Python\n",
    "kernel = ElementwiseKernel(\n",
    "   \"float *a, int n_iter\",\n",
    "   \"for(int n = 0; n < n_iter; n++) { a[i] = sin(a[i]);}\",\n",
    "   \"gpusin\")\n",
    "\n",
    "a = numpy.ones(nbr_values).astype(numpy.float32)\n",
    "a_gpu = gpuarray.to_gpu(a)\n",
    "start.record() # start timing\n",
    "kernel(a_gpu, numpy.int(n_iter))\n",
    "end.record() # end timing\n",
    "    # calculate the run length\n",
    "    end.synchronize()\n",
    "    secs = start.time_till(end)*1e-3\n",
    "    print(\"Elementwise time and first three results:\")\n",
    "    print(\"%fs, %s\" % (secs, str(a_gpu.get()[:3])))\n",
    "\n",
    "\n",
    "    ####################################\n",
    "    # Elementwise Python looping SECTION\n",
    "    # as Elementwise but the for loop is in Python, not in C\n",
    "    kernel = ElementwiseKernel(\n",
    "       \"float *a\",\n",
    "       \"a[i] = sin(a[i]);\",\n",
    "       \"gpusin\")\n",
    "\n",
    "a = numpy.ones(nbr_values).astype(numpy.float32)\n",
    "a_gpu = gpuarray.to_gpu(a)\n",
    "start.record() # start timing\n",
    "for i in range(n_iter):\n",
    "    kernel(a_gpu)\n",
    "end.record() # end timing\n",
    "# calculate the run length\n",
    "end.synchronize()\n",
    "secs = start.time_till(end)*1e-3\n",
    "print(\"Elementwise Python looping time and first three results:\")\n",
    "print(\"%fs, %s\" % (secs, str(a_gpu.get()[:3])))\n",
    "\n",
    "\n",
    "##################\n",
    "# GPUArray SECTION\n",
    "# The result is copied back to main memory on each iteration, this is a bottleneck\n",
    "\n",
    "a = numpy.ones(nbr_values).astype(numpy.float32)\n",
    "a_gpu = gpuarray.to_gpu(a)\n",
    "start.record() # start timing\n",
    "for i in range(n_iter):\n",
    "    a_gpu = pycuda.cumath.sin(a_gpu)\n",
    "end.record() # end timing\n",
    "# calculate the run length\n",
    "end.synchronize()\n",
    "secs = start.time_till(end)*1e-3\n",
    "print(\"GPUArray time and first three results:\")\n",
    "print(\"%fs, %s\" % (secs, str(a_gpu.get()[:3])))\n",
    "\n",
    "\n",
    "#############\n",
    "# CPU SECTION\n",
    "# use numpy the calculate the result on the CPU for reference\n",
    "\n",
    "a = numpy.ones(nbr_values).astype(numpy.float32)\n",
    "start.record() # start timing\n",
    "start.synchronize()\n",
    "\n",
    "for i in range(n_iter):\n",
    "    a = numpy.sin(a)\n",
    "\n",
    "end.record() # end timing\n",
    "# calculate the run length\n",
    "end.synchronize()\n",
    "secs = start.time_till(end)*1e-3\n",
    "print(\"CPU time and first three results:\")\n",
    "print(\"%fs, %s\" % (secs, str(a[:3])))"
   ]
  },
  {
   "cell_type": "code",
   "execution_count": null,
   "metadata": {
    "collapsed": true
   },
   "outputs": [],
   "source": []
  },
  {
   "cell_type": "code",
   "execution_count": null,
   "metadata": {
    "collapsed": false
   },
   "outputs": [],
   "source": []
  },
  {
   "cell_type": "code",
   "execution_count": null,
   "metadata": {
    "collapsed": true
   },
   "outputs": [],
   "source": [
    "alias export sets"
   ]
  },
  {
   "cell_type": "code",
   "execution_count": null,
   "metadata": {
    "collapsed": false
   },
   "outputs": [],
   "source": [
    "LD_LIBRARY_PATH='/usr/local/cuda-7.5/lib'"
   ]
  },
  {
   "cell_type": "code",
   "execution_count": null,
   "metadata": {
    "collapsed": false
   },
   "outputs": [],
   "source": [
    "export LD_LIBRARY_PATH"
   ]
  },
  {
   "cell_type": "code",
   "execution_count": null,
   "metadata": {
    "collapsed": false
   },
   "outputs": [],
   "source": [
    "PATH='/usr/local/cuda-7.5/bin:$PATH'"
   ]
  },
  {
   "cell_type": "code",
   "execution_count": null,
   "metadata": {
    "collapsed": false
   },
   "outputs": [],
   "source": [
    "export PATH"
   ]
  },
  {
   "cell_type": "code",
   "execution_count": null,
   "metadata": {
    "collapsed": true
   },
   "outputs": [],
   "source": []
  },
  {
   "cell_type": "code",
   "execution_count": null,
   "metadata": {
    "collapsed": false
   },
   "outputs": [],
   "source": [
    "import os\n",
    "os.system('export LD_LIBRARY_PATH=/usr/local/cuda-7.5/lib64:$LD_LIBRARY_PATH')"
   ]
  },
  {
   "cell_type": "code",
   "execution_count": null,
   "metadata": {
    "collapsed": false
   },
   "outputs": [],
   "source": [
    "from jupyter import jupyter_core as j\n",
    "jupyter_path()\n"
   ]
  },
  {
   "cell_type": "code",
   "execution_count": null,
   "metadata": {
    "collapsed": true
   },
   "outputs": [],
   "source": [
    "from jupyter_core.paths import jupyter_data_dir, jupyter_path, ENV_JUPYTER_PATH\n",
    "\n",
    "\n"
   ]
  },
  {
   "cell_type": "code",
   "execution_count": null,
   "metadata": {
    "collapsed": false
   },
   "outputs": [],
   "source": [
    "jupyter_path('nvcc')"
   ]
  },
  {
   "cell_type": "code",
   "execution_count": null,
   "metadata": {
    "collapsed": true
   },
   "outputs": [],
   "source": []
  },
  {
   "cell_type": "code",
   "execution_count": null,
   "metadata": {
    "collapsed": false
   },
   "outputs": [],
   "source": [
    "PATH='$PATH:/usr/local/cuda-7.5/bin'"
   ]
  },
  {
   "cell_type": "code",
   "execution_count": null,
   "metadata": {
    "collapsed": false
   },
   "outputs": [],
   "source": [
    "show $PATH"
   ]
  },
  {
   "cell_type": "code",
   "execution_count": null,
   "metadata": {
    "collapsed": true
   },
   "outputs": [],
   "source": []
  },
  {
   "cell_type": "code",
   "execution_count": 1,
   "metadata": {
    "collapsed": false
   },
   "outputs": [
    {
     "name": "stdout",
     "output_type": "stream",
     "text": [
      "Populating the interactive namespace from numpy and matplotlib\n"
     ]
    }
   ],
   "source": [
    "%pylab inline"
   ]
  },
  {
   "cell_type": "code",
   "execution_count": 2,
   "metadata": {
    "collapsed": true
   },
   "outputs": [],
   "source": [
    "import networkx as nx\n",
    "import matplotlib.pyplot as plt"
   ]
  },
  {
   "cell_type": "code",
   "execution_count": 3,
   "metadata": {
    "collapsed": true
   },
   "outputs": [],
   "source": [
    "from nxpd import draw\n"
   ]
  },
  {
   "cell_type": "code",
   "execution_count": 4,
   "metadata": {
    "collapsed": true
   },
   "outputs": [],
   "source": [
    "G=nx.path_graph(30)\n"
   ]
  },
  {
   "cell_type": "code",
   "execution_count": 5,
   "metadata": {
    "collapsed": false
   },
   "outputs": [
    {
     "data": {
      "image/png": "[encoded data removed]",
      "text/plain": [
       "<matplotlib.figure.Figure at 0x7f00ef4d0898>"
      ]
     },
     "metadata": {},
     "output_type": "display_data"
    }
   ],
   "source": [
    "nx.draw(G)"
   ]
  },
  {
   "cell_type": "code",
   "execution_count": 6,
   "metadata": {
    "collapsed": true
   },
   "outputs": [],
   "source": [
    "def make_annotations(pos, text, font_size=14, font_color='rgb(25,25,25)'):\n",
    "    L=len(pos)\n",
    "    if len(text)!=L:\n",
    "        raise ValueError('The lists pos and text must have the same len')\n",
    "    annotations = Annotations()\n",
    "    for k in range(L):\n",
    "        annotations.append(\n",
    "            Annotation(\n",
    "                text=text[k], \n",
    "                x=pos[k][0], y=pos[k][1],\n",
    "                xref='x1', yref='y1',\n",
    "                font=dict(color= font_color, size=font_size),\n",
    "                showarrow=False)\n",
    "        )\n",
    "    return annotations "
   ]
  },
  {
   "cell_type": "code",
   "execution_count": 7,
   "metadata": {
    "collapsed": true
   },
   "outputs": [],
   "source": [
    "import plotly.plotly as py\n",
    "from plotly.graph_objs import *"
   ]
  },
  {
   "cell_type": "code",
   "execution_count": 8,
   "metadata": {
    "collapsed": false
   },
   "outputs": [],
   "source": [
    "def scatter_nodes(pos, labels=None, color=None, size=20, opacity=1):\n",
    "    # pos is the dict of node positions\n",
    "    # labels is a list  of labels of len(pos), to be displayed when hovering the mouse over the nodes\n",
    "    # color is the color for nodes. When it is set as None the Plotly default color is used\n",
    "    # size is the size of the dots representing the nodes\n",
    "    #opacity is a value between [0,1] defining the node color opacity\n",
    "    L=len(pos)\n",
    "    trace = Scatter(x=[], y=[],  mode='markers', marker=Marker(size=[]))\n",
    "    for k in range(L):\n",
    "        trace['x'].append(pos[k][0])\n",
    "        trace['y'].append(pos[k][1])\n",
    "    attrib=dict(name='', text=labels , hoverinfo='text', opacity=opacity) # a dict of Plotly node attributes\n",
    "    trace=dict(trace, **attrib)# concatenate the dict trace and attrib\n",
    "    trace['marker']['size']=size\n",
    "    return trace  "
   ]
  },
  {
   "cell_type": "code",
   "execution_count": 9,
   "metadata": {
    "collapsed": true
   },
   "outputs": [],
   "source": [
    "def scatter_edges(G, pos, line_color=None, line_width=1):\n",
    "    trace = Scatter(x=[], y=[], mode='lines')\n",
    "    for edge in G.edges():\n",
    "        trace['x'] += [pos[edge[0]][0],pos[edge[1]][0], None]\n",
    "        trace['y'] += [pos[edge[0]][1],pos[edge[1]][1], None]  \n",
    "        trace['hoverinfo']='none'\n",
    "        trace['line']['width']=line_width\n",
    "        if line_color is not None: # when it is None a default Plotly color is used\n",
    "            trace['line']['color']=line_color\n",
    "    return trace   "
   ]
  },
  {
   "cell_type": "code",
   "execution_count": 10,
   "metadata": {
    "collapsed": false
   },
   "outputs": [],
   "source": [
    "pos=nx.fruchterman_reingold_layout(G) "
   ]
  },
  {
   "cell_type": "code",
   "execution_count": 11,
   "metadata": {
    "collapsed": true
   },
   "outputs": [],
   "source": [
    "labels=[str(k)  for k in range(len(pos))] # labels are  set as being the nodes indices in the list of nodes\n",
    "trace1=scatter_edges(G, pos)\n",
    "trace2=scatter_nodes(pos, labels=labels)"
   ]
  },
  {
   "cell_type": "code",
   "execution_count": null,
   "metadata": {
    "collapsed": true
   },
   "outputs": [],
   "source": []
  },
  {
   "cell_type": "code",
   "execution_count": 12,
   "metadata": {
    "collapsed": false
   },
   "outputs": [],
   "source": [
    "width=500\n",
    "height=500\n",
    "axis=dict(showline=False, # hide axis line, grid, ticklabels and  title\n",
    "          zeroline=False,\n",
    "          showgrid=False,\n",
    "          showticklabels=False,\n",
    "          title='' \n",
    "          )\n",
    "layout=Layout(title= 'Fruchterman Reingold  layout',  #\n",
    "    font= Font(),\n",
    "    showlegend=False,\n",
    "    autosize=False,\n",
    "    width=width,\n",
    "    height=height,\n",
    "    xaxis=XAxis(axis),\n",
    "    yaxis=YAxis(axis),\n",
    "    margin=Margin(\n",
    "        l=40,\n",
    "        r=40,\n",
    "        b=85,\n",
    "        t=100,\n",
    "        pad=0,\n",
    "       \n",
    "    ),\n",
    "    hovermode='closest',\n",
    "    plot_bgcolor='#EFECEA', #set background color            \n",
    "    )\n",
    "\n",
    "\n",
    "data=Data([trace1, trace2])\n",
    "\n",
    "fig = Figure(data=data, layout=layout)"
   ]
  },
  {
   "cell_type": "code",
   "execution_count": 14,
   "metadata": {
    "collapsed": false
   },
   "outputs": [
    {
     "data": {
      "text/html": [
       "<iframe id=\"igraph\" scrolling=\"no\" style=\"border:none;\" seamless=\"seamless\" src=\"https://plot.ly/~grimadas/5.embed\" height=\"500px\" width=\"500px\"></iframe>"
      ],
      "text/plain": [
       "<plotly.tools.PlotlyDisplay object>"
      ]
     },
     "execution_count": 14,
     "metadata": {},
     "output_type": "execute_result"
    }
   ],
   "source": [
    "fig['layout'].update(annotations=make_annotations(pos, [str(k) for k in range(len(pos))]))  \n",
    "#py.sign_in('grimadas', 'd5zhcwt2aw')\n",
    "py.iplot(fig, filename='tst')"
   ]
  },
  {
   "cell_type": "code",
   "execution_count": null,
   "metadata": {
    "collapsed": true
   },
   "outputs": [],
   "source": []
  },
  {
   "cell_type": "code",
   "execution_count": null,
   "metadata": {
    "collapsed": true
   },
   "outputs": [],
   "source": []
  },
  {
   "cell_type": "code",
   "execution_count": null,
   "metadata": {
    "collapsed": true
   },
   "outputs": [],
   "source": [
    "f = open(file_name, \"r\")\n",
    "n, self.m = [int(x) for x in f.readline().split()] # read first line\n",
    "# add nodes\n",
    "for i in range(1, self.n+1):\n",
    "         g.add_node(i)\n",
    "# add edges \n",
    "degrees = [0 for i in range(0, self.n+1)]   "
   ]
  },
  {
   "cell_type": "code",
   "execution_count": null,
   "metadata": {
    "collapsed": true
   },
   "outputs": [],
   "source": []
  },
  {
   "cell_type": "code",
   "execution_count": null,
   "metadata": {
    "collapsed": true
   },
   "outputs": [],
   "source": [
    "from numba import cuda"
   ]
  },
  {
   "cell_type": "code",
   "execution_count": null,
   "metadata": {
    "collapsed": false
   },
   "outputs": [],
   "source": [
    "@cuda.jit(\"(uint64[:], uint64)\", device=True)\n",
    "def cuda_xorshiftstar(states, id):\n",
    "    x = states[id]\n",
    "    x ^= x >> 12\n",
    "    x ^= x << 25\n",
    "    x ^= x >> 27\n",
    "    states[id] = x\n",
    "    return uint64(x) * uint64(2685821657736338717)"
   ]
  },
  {
   "cell_type": "code",
   "execution_count": null,
   "metadata": {
    "collapsed": true
   },
   "outputs": [],
   "source": []
  },
  {
   "cell_type": "code",
   "execution_count": null,
   "metadata": {
    "collapsed": true
   },
   "outputs": [],
   "source": []
  },
  {
   "cell_type": "code",
   "execution_count": null,
   "metadata": {
    "collapsed": false
   },
   "outputs": [],
   "source": [
    "import networkx as nx\n",
    "import numpy as np\n",
    "import matplotlib.pyplot as plt\n",
    "\n",
    "G = nx.DiGraph()\n",
    "G.add_edges_from(\n",
    "    [('A', 'B'), ('A', 'C'), ('D', 'B'), ('E', 'C'), ('E', 'F'),\n",
    "     ('B', 'H'), ('B', 'G'), ('B', 'F'), ('C', 'G')])\n",
    "\n",
    "val_map = {'A': 1.0,\n",
    "           'D': 0.5714285714285714,\n",
    "           'H': 0.0}\n",
    "\n",
    "values = [val_map.get(node, 0.25) for node in G.nodes()]\n",
    "\n",
    "# Specify the edges you want here\n",
    "red_edges = [('A', 'C'), ('E', 'C')]\n",
    "edge_colours = ['black' if not edge in red_edges else 'red'\n",
    "                for edge in G.edges()]\n",
    "black_edges = [edge for edge in G.edges() if edge not in red_edges]\n",
    "\n",
    "# Need to create a layout when doing\n",
    "# separate calls to draw nodes and edges\n",
    "pos = nx.spring_layout(G)\n",
    "nx.draw_networkx_nodes(G, pos, cmap=plt.get_cmap('jet'), node_color = values)\n",
    "nx.draw_networkx_edges(G, pos, edgelist=red_edges, edge_color='r', arrows=True)\n",
    "nx.draw_networkx_edges(G, pos, edgelist=black_edges, arrows=False)\n",
    "plt.show()"
   ]
  },
  {
   "cell_type": "code",
   "execution_count": null,
   "metadata": {
    "collapsed": true
   },
   "outputs": [],
   "source": []
  },
  {
   "cell_type": "code",
   "execution_count": null,
   "metadata": {
    "collapsed": false
   },
   "outputs": [],
   "source": [
    "import jgraph\n",
    "\n",
    "jgraph.draw([(1, 2), (2, 3), (3, 4), (4, 1), (4, 5), (5, 2)])\n"
   ]
  },
  {
   "cell_type": "code",
   "execution_count": null,
   "metadata": {
    "collapsed": false
   },
   "outputs": [],
   "source": [
    "#!/usr/bin/env python\n",
    "\"\"\"\n",
    "Draw a graph with matplotlib.\n",
    "You must have matplotlib for this to work.\n",
    "\"\"\"\n",
    "import matplotlib\n",
    "try:\n",
    "    import matplotlib.pyplot as plt\n",
    "except:\n",
    "    raise\n",
    "\n",
    "import networkx as nx\n",
    "#matplotlib.use('Agg')\n",
    "G=nx.path_graph(8)\n",
    "nx.draw(G, with_labels=True)\n",
    "plt.savefig(\"simple_path.png\") # save as png\n",
    "plt.show() # display"
   ]
  },
  {
   "cell_type": "code",
   "execution_count": null,
   "metadata": {
    "collapsed": false
   },
   "outputs": [],
   "source": [
    "import random\n",
    "import pylab\n",
    "from matplotlib.pyplot import pause\n",
    "import networkx as nx\n",
    "pylab.ion()\n",
    "\n",
    "graph = nx.Graph()\n",
    "node_number = 0\n",
    "graph.add_node(node_number, Position=(random.randrange(0, 100), random.randrange(0, 100)))\n",
    "\n",
    "def get_fig():\n",
    "    global node_number\n",
    "    node_number += 1\n",
    "    graph.add_node(node_number, Position=(random.randrange(0, 100), random.randrange(0, 100)))\n",
    "    graph.add_edge(node_number, random.choice(graph.nodes()))\n",
    "    fig = pylab.figure()\n",
    "    nx.draw(graph, pos=nx.get_node_attributes(graph,'Position'))\n",
    "    return fig\n",
    "\n",
    "num_plots = 50;\n",
    "pylab.show()\n",
    "\n",
    "for i in range(num_plots):\n",
    "\n",
    "    fig = get_fig()\n",
    "    fig.canvas.draw()\n",
    "    pylab.draw()\n",
    "\n",
    "    pylab.close(fig)"
   ]
  },
  {
   "cell_type": "code",
   "execution_count": null,
   "metadata": {
    "collapsed": false
   },
   "outputs": [],
   "source": [
    "import random\n",
    "import pylab\n",
    "from matplotlib.pyplot import pause\n",
    "import networkx as nx\n",
    "pylab.ion()\n",
    "\n",
    "graph = nx.Graph()\n",
    "node_number = 0\n",
    "graph.add_node(node_number, Position=(random.randrange(0, 100), random.randrange(0, 100)))\n",
    "\n",
    "def get_fig():\n",
    "    global node_number\n",
    "    node_number += 1\n",
    "    graph.add_node(node_number, Position=(random.randrange(0, 100), random.randrange(0, 100)))\n",
    "    graph.add_edge(node_number, random.choice(graph.nodes()))\n",
    "    nx.draw(graph, pos=nx.get_node_attributes(graph,'Position'))\n",
    "\n",
    "num_plots = 50;\n",
    "pylab.show()\n",
    "\n",
    "for i in range(num_plots):\n",
    "\n",
    "    get_fig()\n",
    "    pause(1)\n",
    "    pylab.draw()\n",
    "    "
   ]
  },
  {
   "cell_type": "code",
   "execution_count": null,
   "metadata": {
    "collapsed": false
   },
   "outputs": [],
   "source": [
    "import matplotlib.pyplot as plt\n",
    "import networkx as nx\n",
    "import wx\n",
    "from matplotlib.backends.backend_wxagg import \\\n",
    "FigureCanvasWxAgg as FigCanvas, \\\n",
    "NavigationToolbar2WxAgg as NavigationToolbar\n",
    "\n",
    "class NetworkFrame(wx.Frame):\n",
    "\n",
    "    def __init__(self):\n",
    "        wx.Frame.__init__(self, None, -1)\n",
    "        self.panel = wx.Panel(self)\n",
    "        self.fig = plt.figure()\n",
    "        self.canvas = FigCanvas(self.panel, -1, self.fig)\n",
    "        G=nx.house_graph()\n",
    "    pos={0:(0,0),\n",
    "        1:(1,0),\n",
    "        2:(0,1),\n",
    "        3:(1,1),\n",
    "        4:(0.5,2.0)}\n",
    "\n",
    "nx.draw_networkx_nodes(G,pos,node_size=2000,nodelist=[4])\n",
    "nx.draw_networkx_nodes(G,pos,node_size=3000,nodelist=[0,1,2,3],node_color='b')\n",
    "nx.draw_networkx_edges(G,pos,alpha=0.5,width=6)\n",
    "plt.axis('off')\n",
    "self.vbox = wx.BoxSizer(wx.VERTICAL)\n",
    "    self.vbox.Add(self.canvas, 1, wx.LEFT | wx.TOP | wx.GROW)\n",
    "    self.toolbar = NavigationToolbar(self.canvas)\n",
    "    self.vbox.Add(self.toolbar, 0, wx.EXPAND)\n",
    "    self.panel.SetSizer(self.vbox)\n",
    "    self.vbox.Fit(self)\n",
    "\n",
    "\n",
    "#plt.savefig(\"house_with_colors.png\") # save as png\n",
    "#plt.show() # display\n",
    "\n",
    "app = wx.PySimpleApp()\n",
    "app.frame = NetworkFrame()\n",
    "app.frame.Show()\n",
    "app.MainLoop()"
   ]
  },
  {
   "cell_type": "code",
   "execution_count": null,
   "metadata": {
    "collapsed": false
   },
   "outputs": [],
   "source": [
    "from ipywidgets import widgets"
   ]
  },
  {
   "cell_type": "code",
   "execution_count": null,
   "metadata": {
    "collapsed": false
   },
   "outputs": [],
   "source": [
    "%pylab inline\n",
    "%matplotlib notebook"
   ]
  },
  {
   "cell_type": "code",
   "execution_count": null,
   "metadata": {
    "collapsed": false
   },
   "outputs": [],
   "source": [
    "import numpy as np\n",
    "import networkx as nx\n",
    "import matplotlib.pyplot as plt\n",
    "from matplotlib.animation import FuncAnimation\n",
    "from networkx.drawing.nx_agraph import graphviz_layout\n",
    "from nxpd import draw\n",
    "from matplotlib import animation\n",
    "\n",
    "G = nx.Graph()\n",
    "#G.add_edges_from([(0,1),(1,2),(2,0)])\n",
    "fig = plt.figure(figsize=(8,8))\n",
    "\n",
    "nc = np.random.random(3)\n",
    "\n",
    "def init():\n",
    "    G.add_edges_from([(0,1),(1,2),(2,0)])\n",
    "    return G,\n",
    "\n",
    "\n",
    "# animation function.  This is called sequentially\n",
    "k = 0\n",
    "\n",
    "def animate(i):\n",
    "    global k\n",
    "    G.add_edge(1, i)\n",
    "    k += 1\n",
    "    pos = graphviz_layout(G)\n",
    "    nx.draw(G, pos)\n",
    "    print(k)\n",
    "    return G,\n",
    "\n",
    "# call the animator.  blit=True means only re-draw the parts that have changed.\n",
    "anim = animation.FuncAnimation(fig, animate, init_func=init,\n",
    "                               frames=4, interval=20, blit=True)\n"
   ]
  },
  {
   "cell_type": "code",
   "execution_count": null,
   "metadata": {
    "collapsed": false
   },
   "outputs": [],
   "source": []
  },
  {
   "cell_type": "code",
   "execution_count": null,
   "metadata": {
    "collapsed": false
   },
   "outputs": [],
   "source": []
  },
  {
   "cell_type": "code",
   "execution_count": null,
   "metadata": {
    "collapsed": false
   },
   "outputs": [],
   "source": [
    "from matplotlib import animation\n",
    "\n",
    "# First set up the figure, the axis, and the plot element we want to animate\n",
    "fig = plt.figure()\n",
    "ax = plt.axes(xlim=(0, 2), ylim=(-2, 2))\n",
    "line, = ax.plot([], [], lw=2)\n",
    "\n",
    "# initialization function: plot the background of each frame\n",
    "def init():\n",
    "    line.set_data([], [])\n",
    "    return line,\n",
    "\n",
    "# animation function.  This is called sequentially\n",
    "def animate(i):\n",
    "    x = np.linspace(0, 2, 1000)\n",
    "    y = np.sin(2 * np.pi * (x - 0.01 * i))\n",
    "    line.set_data(x, y)\n",
    "    return line,\n",
    "\n",
    "# call the animator.  blit=True means only re-draw the parts that have changed.\n",
    "anim = animation.FuncAnimation(fig, animate, init_func=init,\n",
    "                               frames=100, interval=20, blit=True)\n"
   ]
  },
  {
   "cell_type": "code",
   "execution_count": 1,
   "metadata": {
    "collapsed": false
   },
   "outputs": [
    {
     "ename": "ValueError",
     "evalue": "bad marshal data (invalid reference)",
     "output_type": "error",
     "traceback": [
      "\u001b[1;31m---------------------------------------------------------------------------\u001b[0m",
      "\u001b[1;31mValueError\u001b[0m                                Traceback (most recent call last)",
      "\u001b[1;32m<ipython-input-1-a99aa8771c5e>\u001b[0m in \u001b[0;36m<module>\u001b[1;34m()\u001b[0m\n\u001b[1;32m----> 1\u001b[1;33m \u001b[1;32mimport\u001b[0m \u001b[0mplotly\u001b[0m\u001b[1;33m.\u001b[0m\u001b[0mplotly\u001b[0m \u001b[1;32mas\u001b[0m \u001b[0mpy\u001b[0m\u001b[1;33m\u001b[0m\u001b[0m\n\u001b[0m\u001b[0;32m      2\u001b[0m \u001b[1;32mfrom\u001b[0m \u001b[0mplotly\u001b[0m\u001b[1;33m.\u001b[0m\u001b[0mgraph_objs\u001b[0m \u001b[1;32mimport\u001b[0m \u001b[1;33m*\u001b[0m\u001b[1;33m\u001b[0m\u001b[0m\n\u001b[0;32m      3\u001b[0m \u001b[1;33m\u001b[0m\u001b[0m\n\u001b[0;32m      4\u001b[0m trace0 = Scatter(\n\u001b[0;32m      5\u001b[0m   \u001b[0mx\u001b[0m\u001b[1;33m=\u001b[0m\u001b[1;33m[\u001b[0m\u001b[1;36m1\u001b[0m\u001b[1;33m,\u001b[0m \u001b[1;36m2\u001b[0m\u001b[1;33m,\u001b[0m \u001b[1;36m3\u001b[0m\u001b[1;33m,\u001b[0m \u001b[1;36m4\u001b[0m\u001b[1;33m]\u001b[0m\u001b[1;33m,\u001b[0m\u001b[1;33m\u001b[0m\u001b[0m\n",
      "\u001b[1;32m/home/bulat/anaconda3/lib/python3.5/site-packages/plotly/__init__.py\u001b[0m in \u001b[0;36m<module>\u001b[1;34m()\u001b[0m\n\u001b[0;32m     29\u001b[0m \u001b[1;32mfrom\u001b[0m \u001b[0m__future__\u001b[0m \u001b[1;32mimport\u001b[0m \u001b[0mabsolute_import\u001b[0m\u001b[1;33m\u001b[0m\u001b[0m\n\u001b[0;32m     30\u001b[0m \u001b[1;33m\u001b[0m\u001b[0m\n\u001b[1;32m---> 31\u001b[1;33m from plotly import (plotly, graph_objs, grid_objs, tools, utils, session,\n\u001b[0m\u001b[0;32m     32\u001b[0m                     offline)\n\u001b[0;32m     33\u001b[0m \u001b[1;32mfrom\u001b[0m \u001b[0mplotly\u001b[0m\u001b[1;33m.\u001b[0m\u001b[0mversion\u001b[0m \u001b[1;32mimport\u001b[0m \u001b[0m__version__\u001b[0m\u001b[1;33m\u001b[0m\u001b[0m\n",
      "\u001b[1;32m/home/bulat/anaconda3/lib/python3.5/site-packages/plotly/plotly/__init__.py\u001b[0m in \u001b[0;36m<module>\u001b[1;34m()\u001b[0m\n\u001b[0;32m      8\u001b[0m \u001b[1;33m\u001b[0m\u001b[0m\n\u001b[0;32m      9\u001b[0m \"\"\"\n\u001b[1;32m---> 10\u001b[1;33m from . plotly import (\n\u001b[0m\u001b[0;32m     11\u001b[0m     \u001b[0msign_in\u001b[0m\u001b[1;33m,\u001b[0m\u001b[1;33m\u001b[0m\u001b[0m\n\u001b[0;32m     12\u001b[0m     \u001b[0mupdate_plot_options\u001b[0m\u001b[1;33m,\u001b[0m\u001b[1;33m\u001b[0m\u001b[0m\n",
      "\u001b[1;32m/home/bulat/anaconda3/lib/python3.5/site-packages/plotly/plotly/plotly.py\u001b[0m in \u001b[0;36m<module>\u001b[1;34m()\u001b[0m\n\u001b[0;32m     29\u001b[0m \u001b[1;32mfrom\u001b[0m \u001b[0mrequests\u001b[0m\u001b[1;33m.\u001b[0m\u001b[0mauth\u001b[0m \u001b[1;32mimport\u001b[0m \u001b[0mHTTPBasicAuth\u001b[0m\u001b[1;33m\u001b[0m\u001b[0m\n\u001b[0;32m     30\u001b[0m \u001b[1;33m\u001b[0m\u001b[0m\n\u001b[1;32m---> 31\u001b[1;33m \u001b[1;32mfrom\u001b[0m \u001b[0mplotly\u001b[0m \u001b[1;32mimport\u001b[0m \u001b[0mexceptions\u001b[0m\u001b[1;33m,\u001b[0m \u001b[0mtools\u001b[0m\u001b[1;33m,\u001b[0m \u001b[0mutils\u001b[0m\u001b[1;33m,\u001b[0m \u001b[0mversion\u001b[0m\u001b[1;33m,\u001b[0m \u001b[0mfiles\u001b[0m\u001b[1;33m\u001b[0m\u001b[0m\n\u001b[0m\u001b[0;32m     32\u001b[0m \u001b[1;32mfrom\u001b[0m \u001b[0mplotly\u001b[0m\u001b[1;33m.\u001b[0m\u001b[0mplotly\u001b[0m \u001b[1;32mimport\u001b[0m \u001b[0mchunked_requests\u001b[0m\u001b[1;33m\u001b[0m\u001b[0m\n\u001b[0;32m     33\u001b[0m from plotly.session import (sign_in, update_session_plot_options,\n",
      "\u001b[1;32m/home/bulat/anaconda3/lib/python3.5/site-packages/plotly/tools.py\u001b[0m in \u001b[0;36m<module>\u001b[1;34m()\u001b[0m\n\u001b[0;32m     16\u001b[0m \u001b[1;32mimport\u001b[0m \u001b[0mmath\u001b[0m\u001b[1;33m\u001b[0m\u001b[0m\n\u001b[0;32m     17\u001b[0m \u001b[1;33m\u001b[0m\u001b[0m\n\u001b[1;32m---> 18\u001b[1;33m \u001b[1;32mfrom\u001b[0m \u001b[0mplotly\u001b[0m \u001b[1;32mimport\u001b[0m \u001b[0mutils\u001b[0m\u001b[1;33m\u001b[0m\u001b[0m\n\u001b[0m\u001b[0;32m     19\u001b[0m \u001b[1;32mfrom\u001b[0m \u001b[0mplotly\u001b[0m \u001b[1;32mimport\u001b[0m \u001b[0mexceptions\u001b[0m\u001b[1;33m\u001b[0m\u001b[0m\n\u001b[0;32m     20\u001b[0m \u001b[1;32mfrom\u001b[0m \u001b[0mplotly\u001b[0m \u001b[1;32mimport\u001b[0m \u001b[0mgraph_reference\u001b[0m\u001b[1;33m\u001b[0m\u001b[0m\n",
      "\u001b[1;32m/home/bulat/anaconda3/lib/python3.5/site-packages/plotly/utils.py\u001b[0m in \u001b[0;36m<module>\u001b[1;34m()\u001b[0m\n\u001b[0;32m     26\u001b[0m \u001b[1;33m\u001b[0m\u001b[0m\n\u001b[0;32m     27\u001b[0m \u001b[1;32mtry\u001b[0m\u001b[1;33m:\u001b[0m\u001b[1;33m\u001b[0m\u001b[0m\n\u001b[1;32m---> 28\u001b[1;33m     \u001b[1;32mimport\u001b[0m \u001b[0mpandas\u001b[0m\u001b[1;33m\u001b[0m\u001b[0m\n\u001b[0m\u001b[0;32m     29\u001b[0m     \u001b[0m_pandas_imported\u001b[0m \u001b[1;33m=\u001b[0m \u001b[1;32mTrue\u001b[0m\u001b[1;33m\u001b[0m\u001b[0m\n\u001b[0;32m     30\u001b[0m \u001b[1;32mexcept\u001b[0m \u001b[0mImportError\u001b[0m\u001b[1;33m:\u001b[0m\u001b[1;33m\u001b[0m\u001b[0m\n",
      "\u001b[1;32m/home/bulat/anaconda3/lib/python3.5/site-packages/pandas/__init__.py\u001b[0m in \u001b[0;36m<module>\u001b[1;34m()\u001b[0m\n\u001b[0;32m     37\u001b[0m \u001b[1;32mimport\u001b[0m \u001b[0mpandas\u001b[0m\u001b[1;33m.\u001b[0m\u001b[0mcore\u001b[0m\u001b[1;33m.\u001b[0m\u001b[0mconfig_init\u001b[0m\u001b[1;33m\u001b[0m\u001b[0m\n\u001b[0;32m     38\u001b[0m \u001b[1;33m\u001b[0m\u001b[0m\n\u001b[1;32m---> 39\u001b[1;33m \u001b[1;32mfrom\u001b[0m \u001b[0mpandas\u001b[0m\u001b[1;33m.\u001b[0m\u001b[0mcore\u001b[0m\u001b[1;33m.\u001b[0m\u001b[0mapi\u001b[0m \u001b[1;32mimport\u001b[0m \u001b[1;33m*\u001b[0m\u001b[1;33m\u001b[0m\u001b[0m\n\u001b[0m\u001b[0;32m     40\u001b[0m \u001b[1;32mfrom\u001b[0m \u001b[0mpandas\u001b[0m\u001b[1;33m.\u001b[0m\u001b[0msparse\u001b[0m\u001b[1;33m.\u001b[0m\u001b[0mapi\u001b[0m \u001b[1;32mimport\u001b[0m \u001b[1;33m*\u001b[0m\u001b[1;33m\u001b[0m\u001b[0m\n\u001b[0;32m     41\u001b[0m \u001b[1;32mfrom\u001b[0m \u001b[0mpandas\u001b[0m\u001b[1;33m.\u001b[0m\u001b[0mstats\u001b[0m\u001b[1;33m.\u001b[0m\u001b[0mapi\u001b[0m \u001b[1;32mimport\u001b[0m \u001b[1;33m*\u001b[0m\u001b[1;33m\u001b[0m\u001b[0m\n",
      "\u001b[1;32m/home/bulat/anaconda3/lib/python3.5/site-packages/pandas/core/api.py\u001b[0m in \u001b[0;36m<module>\u001b[1;34m()\u001b[0m\n\u001b[0;32m      8\u001b[0m \u001b[1;32mfrom\u001b[0m \u001b[0mpandas\u001b[0m\u001b[1;33m.\u001b[0m\u001b[0mcore\u001b[0m\u001b[1;33m.\u001b[0m\u001b[0mcommon\u001b[0m \u001b[1;32mimport\u001b[0m \u001b[0misnull\u001b[0m\u001b[1;33m,\u001b[0m \u001b[0mnotnull\u001b[0m\u001b[1;33m\u001b[0m\u001b[0m\n\u001b[0;32m      9\u001b[0m \u001b[1;32mfrom\u001b[0m \u001b[0mpandas\u001b[0m\u001b[1;33m.\u001b[0m\u001b[0mcore\u001b[0m\u001b[1;33m.\u001b[0m\u001b[0mcategorical\u001b[0m \u001b[1;32mimport\u001b[0m \u001b[0mCategorical\u001b[0m\u001b[1;33m\u001b[0m\u001b[0m\n\u001b[1;32m---> 10\u001b[1;33m \u001b[1;32mfrom\u001b[0m \u001b[0mpandas\u001b[0m\u001b[1;33m.\u001b[0m\u001b[0mcore\u001b[0m\u001b[1;33m.\u001b[0m\u001b[0mgroupby\u001b[0m \u001b[1;32mimport\u001b[0m \u001b[0mGrouper\u001b[0m\u001b[1;33m\u001b[0m\u001b[0m\n\u001b[0m\u001b[0;32m     11\u001b[0m \u001b[1;32mfrom\u001b[0m \u001b[0mpandas\u001b[0m\u001b[1;33m.\u001b[0m\u001b[0mcore\u001b[0m\u001b[1;33m.\u001b[0m\u001b[0mformat\u001b[0m \u001b[1;32mimport\u001b[0m \u001b[0mset_eng_float_format\u001b[0m\u001b[1;33m\u001b[0m\u001b[0m\n\u001b[0;32m     12\u001b[0m from pandas.core.index import (Index, CategoricalIndex, Int64Index,\n",
      "\u001b[1;32m/home/bulat/anaconda3/lib/python3.5/site-packages/pandas/core/groupby.py\u001b[0m in \u001b[0;36m<module>\u001b[1;34m()\u001b[0m\n\u001b[0;32m     16\u001b[0m                               DataError, SpecificationError)\n\u001b[0;32m     17\u001b[0m \u001b[1;32mfrom\u001b[0m \u001b[0mpandas\u001b[0m\u001b[1;33m.\u001b[0m\u001b[0mcore\u001b[0m\u001b[1;33m.\u001b[0m\u001b[0mcategorical\u001b[0m \u001b[1;32mimport\u001b[0m \u001b[0mCategorical\u001b[0m\u001b[1;33m\u001b[0m\u001b[0m\n\u001b[1;32m---> 18\u001b[1;33m \u001b[1;32mfrom\u001b[0m \u001b[0mpandas\u001b[0m\u001b[1;33m.\u001b[0m\u001b[0mcore\u001b[0m\u001b[1;33m.\u001b[0m\u001b[0mframe\u001b[0m \u001b[1;32mimport\u001b[0m \u001b[0mDataFrame\u001b[0m\u001b[1;33m\u001b[0m\u001b[0m\n\u001b[0m\u001b[0;32m     19\u001b[0m \u001b[1;32mfrom\u001b[0m \u001b[0mpandas\u001b[0m\u001b[1;33m.\u001b[0m\u001b[0mcore\u001b[0m\u001b[1;33m.\u001b[0m\u001b[0mgeneric\u001b[0m \u001b[1;32mimport\u001b[0m \u001b[0mNDFrame\u001b[0m\u001b[1;33m\u001b[0m\u001b[0m\n\u001b[0;32m     20\u001b[0m from pandas.core.index import (Index, MultiIndex, CategoricalIndex,\n",
      "\u001b[1;32m/home/bulat/anaconda3/lib/python3.5/importlib/_bootstrap.py\u001b[0m in \u001b[0;36m_find_and_load\u001b[1;34m(name, import_)\u001b[0m\n",
      "\u001b[1;32m/home/bulat/anaconda3/lib/python3.5/importlib/_bootstrap.py\u001b[0m in \u001b[0;36m_find_and_load_unlocked\u001b[1;34m(name, import_)\u001b[0m\n",
      "\u001b[1;32m/home/bulat/anaconda3/lib/python3.5/importlib/_bootstrap.py\u001b[0m in \u001b[0;36m_load_unlocked\u001b[1;34m(spec)\u001b[0m\n",
      "\u001b[1;32m/home/bulat/anaconda3/lib/python3.5/importlib/_bootstrap_external.py\u001b[0m in \u001b[0;36mexec_module\u001b[1;34m(self, module)\u001b[0m\n",
      "\u001b[1;32m/home/bulat/anaconda3/lib/python3.5/importlib/_bootstrap_external.py\u001b[0m in \u001b[0;36mget_code\u001b[1;34m(self, fullname)\u001b[0m\n",
      "\u001b[1;32m/home/bulat/anaconda3/lib/python3.5/importlib/_bootstrap_external.py\u001b[0m in \u001b[0;36m_compile_bytecode\u001b[1;34m(data, name, bytecode_path, source_path)\u001b[0m\n",
      "\u001b[1;31mValueError\u001b[0m: bad marshal data (invalid reference)"
     ]
    }
   ],
   "source": [
    "import plotly.plotly as py\n",
    "from plotly.graph_objs import *\n",
    "\n",
    "trace0 = Scatter(\n",
    "  x=[1, 2, 3, 4],\n",
    "  y=[10, 15, 13, 17]\n",
    ")\n",
    "trace1 = Scatter(\n",
    "  x=[1, 2, 3, 4],\n",
    "  y=[16, 5, 11, 9]\n",
    ")\n",
    "data = Data([trace0, trace1])\n",
    "\n",
    "py.iplot(data, filename = 'basic-line')"
   ]
  },
  {
   "cell_type": "code",
   "execution_count": null,
   "metadata": {
    "collapsed": false
   },
   "outputs": [],
   "source": [
    "import matplotlib.pyplot as plt\n",
    "import numpy as np\n",
    "import plotly.plotly as py\n",
    "\n",
    "n = 50\n",
    "x, y, z, s, ew = np.random.rand(5, n)\n",
    "c, ec = np.random.rand(2, n, 4)\n",
    "area_scale, width_scale = 500, 5\n",
    "\n",
    "fig, ax = plt.subplots()\n",
    "sc = ax.scatter(x, y, c=c,\n",
    "                s=np.square(s)*area_scale,\n",
    "                edgecolor=ec,\n",
    "                linewidth=ew*width_scale)\n",
    "ax.grid()\n",
    "\n",
    "py.iplot_mpl(fig)"
   ]
  },
  {
   "cell_type": "code",
   "execution_count": null,
   "metadata": {
    "collapsed": false
   },
   "outputs": [],
   "source": [
    "# JS Animation import is available at http://github.com/jakevdp/JSAnimation\n",
    "from JSAnimation.IPython_display import display_animation\n",
    "from matplotlib import animation\n",
    "\n",
    "# Set up the axes, making sure the axis ratio is equal\n",
    "fig = plt.figure(figsize=(6.5, 2.5))\n",
    "ax = fig.add_axes([0, 0, 1, 1], xlim=(-0.02, 13.02), ylim=(-0.02, 5.02),\n",
    "                  xticks=range(14), yticks=range(6), aspect='equal', frameon=False)\n",
    "ax.grid(True)\n",
    "\n",
    "# Define the shapes of the polygons\n",
    "P1 = np.array([[0, 0], [5, 0], [5, 2], [0, 0]])\n",
    "P2 = np.array([[0, 0], [8, 0], [8, 3], [0, 0]])\n",
    "P3 = np.array([[0, 0], [5, 0], [5, 1], [3, 1], [3, 2], [0, 2], [0, 0]])\n",
    "P4 = np.array([[0, 1], [3, 1], [3, 0], [5, 0], [5, 2], [0, 2], [0, 1]])\n",
    "\n",
    "# Draw the empty polygons for the animation\n",
    "kwds = dict(ec='k', alpha=0.5)\n",
    "patches = [ax.add_patch(plt.Polygon(0 * P1, fc='g', **kwds)),\n",
    "           ax.add_patch(plt.Polygon(0 * P2, fc='b', **kwds)),\n",
    "           ax.add_patch(plt.Polygon(0 * P3, fc='y', **kwds)),\n",
    "           ax.add_patch(plt.Polygon(0 * P4, fc='r', **kwds))]\n",
    "\n",
    "# This function moves the polygons as a function of the frame i\n",
    "Nframes = 30\n",
    "def animate(nframe):\n",
    "    f = nframe / (Nframes - 1.0)\n",
    "    patches[0].set_xy(P1 + (8 - 8 * f, 3 - 3 * f + 0.5 * np.sin(f * np.pi)))\n",
    "    patches[1].set_xy(P2 + (5 * f, 2 * f - 0.5 * np.sin(f * np.pi)))\n",
    "    patches[2].set_xy(P3 + (8 - 3 * f, 0))\n",
    "    patches[3].set_xy(P4 + (8, 1 - f))\n",
    "    return patches\n",
    "    \n",
    "anim = animation.FuncAnimation(fig, animate, frames=Nframes, interval=50)\n",
    "display_animation(anim, default_mode='once')"
   ]
  },
  {
   "cell_type": "code",
   "execution_count": 1,
   "metadata": {
    "collapsed": false
   },
   "outputs": [
    {
     "name": "stdout",
     "output_type": "stream",
     "text": [
      "Testing matrix multiplication for type float32\n",
      "Success status:  True\n",
      "Testing vector multiplication for type float32\n",
      "Success status:  True\n",
      "Testing matrix multiplication for type complex64\n",
      "Success status:  True\n",
      "Testing vector multiplication for type complex64\n",
      "Success status:  True\n",
      "Testing matrix multiplication for type float64\n",
      "Success status:  True\n",
      "Testing vector multiplication for type float64\n",
      "Success status:  True\n",
      "Testing matrix multiplication for type complex128\n",
      "Success status:  True\n",
      "Testing vector multiplication for type complex128\n",
      "Success status:  True\n"
     ]
    }
   ],
   "source": [
    "from __future__ import print_function\n",
    "\n",
    "import pycuda.autoinit\n",
    "import pycuda.gpuarray as gpuarray\n",
    "import pycuda.driver as drv\n",
    "import numpy as np\n",
    "\n",
    "import skcuda.linalg as culinalg\n",
    "import skcuda.misc as cumisc\n",
    "culinalg.init()\n",
    "\n",
    "# Double precision is only supported by devices with compute\n",
    "# capability >= 1.3:\n",
    "import string\n",
    "demo_types = [np.float32, np.complex64]\n",
    "if cumisc.get_compute_capability(pycuda.autoinit.device) >= 1.3:\n",
    "    demo_types.extend([np.float64, np.complex128])\n",
    "\n",
    "for t in demo_types:\n",
    "    print('Testing matrix multiplication for type ' + str(np.dtype(t)))\n",
    "    if np.iscomplexobj(t()):\n",
    "        a = np.asarray(np.random.rand(10, 5) + 1j * np.random.rand(10, 5), t)\n",
    "        b = np.asarray(np.random.rand(5, 5) + 1j * np.random.rand(5, 5), t)\n",
    "        c = np.asarray(np.random.rand(5, 5) + 1j * np.random.rand(5, 5), t)\n",
    "    else:\n",
    "        a = np.asarray(np.random.rand(10, 5), t)\n",
    "        b = np.asarray(np.random.rand(5, 5), t)\n",
    "        c = np.asarray(np.random.rand(5, 5), t)\n",
    "\n",
    "    a_gpu = gpuarray.to_gpu(a)\n",
    "    b_gpu = gpuarray.to_gpu(b)\n",
    "    c_gpu = gpuarray.to_gpu(c)\n",
    "\n",
    "    temp_gpu = culinalg.dot(a_gpu, b_gpu)\n",
    "    d_gpu = culinalg.dot(temp_gpu, c_gpu)\n",
    "    temp_gpu.gpudata.free()\n",
    "    del(temp_gpu)\n",
    "    print('Success status: ', np.allclose(np.dot(np.dot(a, b), c), d_gpu.get()))\n",
    "\n",
    "    print('Testing vector multiplication for type ' + str(np.dtype(t)))\n",
    "    if np.iscomplexobj(t()):\n",
    "        d = np.asarray(np.random.rand(5) + 1j * np.random.rand(5), t)\n",
    "        e = np.asarray(np.random.rand(5) + 1j * np.random.rand(5), t)\n",
    "    else:\n",
    "        d = np.asarray(np.random.rand(5), t)\n",
    "        e = np.asarray(np.random.rand(5), t)\n",
    "\n",
    "    d_gpu = gpuarray.to_gpu(d)\n",
    "    e_gpu = gpuarray.to_gpu(e)\n",
    "\n",
    "    temp = culinalg.dot(d_gpu, e_gpu)\n",
    "    print('Success status: ', np.allclose(np.dot(d, e), temp))"
   ]
  },
  {
   "cell_type": "code",
   "execution_count": null,
   "metadata": {
    "collapsed": false
   },
   "outputs": [],
   "source": []
  },
  {
   "cell_type": "code",
   "execution_count": null,
   "metadata": {
    "collapsed": true
   },
   "outputs": [],
   "source": []
  }
 ],
 "metadata": {
  "kernelspec": {
   "display_name": "Python 3",
   "language": "python",
   "name": "python3"
  },
  "language_info": {
   "codemirror_mode": {
    "name": "ipython",
    "version": 3
   },
   "file_extension": ".py",
   "mimetype": "text/x-python",
   "name": "python",
   "nbconvert_exporter": "python",
   "pygments_lexer": "ipython3",
   "version": "3.5.1"
  }
 },
 "nbformat": 4,
 "nbformat_minor": 0
}
