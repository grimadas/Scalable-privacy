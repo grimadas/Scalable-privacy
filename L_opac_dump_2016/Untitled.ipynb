{
 "cells": [
  {
   "cell_type": "code",
   "execution_count": null,
   "metadata": {
    "collapsed": false
   },
   "outputs": [],
   "source": []
  },
  {
   "cell_type": "code",
   "execution_count": 1,
   "metadata": {
    "collapsed": false
   },
   "outputs": [
    {
     "name": "stdout",
     "output_type": "stream",
     "text": [
      "Populating the interactive namespace from numpy and matplotlib\n"
     ]
    }
   ],
   "source": [
    "%pylab inline"
   ]
  },
  {
   "cell_type": "code",
   "execution_count": 4,
   "metadata": {
    "collapsed": false
   },
   "outputs": [],
   "source": [
    "import petsc4py"
   ]
  },
  {
   "cell_type": "code",
   "execution_count": 5,
   "metadata": {
    "collapsed": true
   },
   "outputs": [],
   "source": [
    "petsc4py.init()"
   ]
  },
  {
   "cell_type": "code",
   "execution_count": 6,
   "metadata": {
    "collapsed": true
   },
   "outputs": [],
   "source": [
    "import mpi4py"
   ]
  },
  {
   "cell_type": "code",
   "execution_count": 8,
   "metadata": {
    "collapsed": false
   },
   "outputs": [
    {
     "data": {
      "text/plain": [
       "{'mpicc': '/usr/bin/mpicc',\n",
       " 'mpicxx': '/usr/bin/mpicxx',\n",
       " 'mpif77': '/usr/bin/mpif77',\n",
       " 'mpif90': '/usr/bin/mpif90'}"
      ]
     },
     "execution_count": 8,
     "metadata": {},
     "output_type": "execute_result"
    }
   ],
   "source": [
    "mpi4py.get_config()"
   ]
  },
  {
   "cell_type": "code",
   "execution_count": 13,
   "metadata": {
    "collapsed": false
   },
   "outputs": [
    {
     "ename": "ImportError",
     "evalue": "No module named 'op2'",
     "output_type": "error",
     "traceback": [
      "\u001b[1;31m---------------------------------------------------------------------------\u001b[0m",
      "\u001b[1;31mImportError\u001b[0m                               Traceback (most recent call last)",
      "\u001b[1;32m<ipython-input-13-de6a8bfbb5ef>\u001b[0m in \u001b[0;36m<module>\u001b[1;34m()\u001b[0m\n\u001b[1;32m----> 1\u001b[1;33m \u001b[1;32mfrom\u001b[0m \u001b[0mpyop2\u001b[0m \u001b[1;32mimport\u001b[0m \u001b[0mop2\u001b[0m\u001b[1;33m\u001b[0m\u001b[0m\n\u001b[0m",
      "\u001b[1;32m/home/bulat/anaconda3/lib/python3.5/site-packages/PyOP2-0.13.0_19_g2062a47-py3.5-linux-x86_64.egg/pyop2/__init__.py\u001b[0m in \u001b[0;36m<module>\u001b[1;34m()\u001b[0m\n\u001b[0;32m      7\u001b[0m \"\"\"\n\u001b[0;32m      8\u001b[0m \u001b[1;33m\u001b[0m\u001b[0m\n\u001b[1;32m----> 9\u001b[1;33m \u001b[1;32mfrom\u001b[0m \u001b[0mop2\u001b[0m \u001b[1;32mimport\u001b[0m \u001b[1;33m*\u001b[0m\u001b[1;33m\u001b[0m\u001b[0m\n\u001b[0m\u001b[0;32m     10\u001b[0m \u001b[1;32mfrom\u001b[0m \u001b[0mversion\u001b[0m \u001b[1;32mimport\u001b[0m \u001b[0m__version__\u001b[0m \u001b[1;32mas\u001b[0m \u001b[0mver\u001b[0m\u001b[1;33m,\u001b[0m \u001b[0m__version_info__\u001b[0m  \u001b[1;31m# noqa: just expose\u001b[0m\u001b[1;33m\u001b[0m\u001b[0m\n\u001b[0;32m     11\u001b[0m \u001b[1;33m\u001b[0m\u001b[0m\n",
      "\u001b[1;31mImportError\u001b[0m: No module named 'op2'"
     ]
    }
   ],
   "source": [
    "from pyop2 import op2"
   ]
  },
  {
   "cell_type": "code",
   "execution_count": null,
   "metadata": {
    "collapsed": true
   },
   "outputs": [],
   "source": []
  },
  {
   "cell_type": "code",
   "execution_count": null,
   "metadata": {
    "collapsed": true
   },
   "outputs": [],
   "source": []
  },
  {
   "cell_type": "code",
   "execution_count": null,
   "metadata": {
    "collapsed": true
   },
   "outputs": [],
   "source": []
  },
  {
   "cell_type": "code",
   "execution_count": null,
   "metadata": {
    "collapsed": true
   },
   "outputs": [],
   "source": []
  },
  {
   "cell_type": "code",
   "execution_count": null,
   "metadata": {
    "collapsed": true
   },
   "outputs": [],
   "source": []
  },
  {
   "cell_type": "code",
   "execution_count": null,
   "metadata": {
    "collapsed": true
   },
   "outputs": [],
   "source": []
  },
  {
   "cell_type": "code",
   "execution_count": null,
   "metadata": {
    "collapsed": true
   },
   "outputs": [],
   "source": []
  },
  {
   "cell_type": "code",
   "execution_count": null,
   "metadata": {
    "collapsed": true
   },
   "outputs": [],
   "source": []
  },
  {
   "cell_type": "code",
   "execution_count": null,
   "metadata": {
    "collapsed": true
   },
   "outputs": [],
   "source": []
  },
  {
   "cell_type": "code",
   "execution_count": null,
   "metadata": {
    "collapsed": true
   },
   "outputs": [],
   "source": []
  },
  {
   "cell_type": "code",
   "execution_count": null,
   "metadata": {
    "collapsed": true
   },
   "outputs": [],
   "source": []
  },
  {
   "cell_type": "code",
   "execution_count": null,
   "metadata": {
    "collapsed": true
   },
   "outputs": [],
   "source": [
    "from time import time"
   ]
  },
  {
   "cell_type": "code",
   "execution_count": null,
   "metadata": {
    "collapsed": true
   },
   "outputs": [],
   "source": [
    "import networkx as nx\n",
    "import matplotlib.pyplot as plt\n",
    "import matplotlib.ticker as mtick"
   ]
  },
  {
   "cell_type": "code",
   "execution_count": null,
   "metadata": {
    "collapsed": true
   },
   "outputs": [],
   "source": [
    "def pplot(to_draw):\n",
    "    ax = plt.subplot(111)\n",
    "    # Hide the right and top spines\n",
    "    ax.spines['right'].set_visible(False)\n",
    "    ax.spines['top'].set_visible(False)\n",
    "    # Only show ticks on the left and bottom spines\n",
    "    ax.yaxis.set_ticks_position('left')\n",
    "    ax.xaxis.set_ticks_position('bottom')\n",
    "    fmt = to_draw[0]['xfmt'] # Format you want the ticks, e.g. '40%'\n",
    "    xticks = mtick.FormatStrFormatter(fmt)\n",
    "    ax.xaxis.set_major_formatter(xticks)\n",
    "    fmt = to_draw[0]['yfmt'] #'%.0f%%' # Format you want the ticks, e.g. '40%'\n",
    "    xticks = mtick.FormatStrFormatter(fmt)\n",
    "    ax.yaxis.set_major_formatter(xticks)\n",
    "    \n",
    "    plt.xlabel(to_draw[0]['xlab'])\n",
    "    plt.ylabel(to_draw[0]['ylab'])\n",
    "    \n",
    "    legends = []\n",
    "    for t in to_draw:\n",
    "        l1, = ax.plot(t['x'], t['y'], '-', label = t['label'], fillstyle='none', marker = t['mark'])\n",
    "        legends.append(l1)\n",
    "    ax.legend(handles=legends)\n",
    "    \n",
    "    plt.savefig(to_draw[0]['file'], bbox_inches='tight')\n",
    "    plt.show()\n",
    "\n"
   ]
  },
  {
   "cell_type": "code",
   "execution_count": null,
   "metadata": {
    "collapsed": true
   },
   "outputs": [],
   "source": [
    "loc_label = 'Local'\n",
    "glob_label = 'Global'\n",
    "loc_mark = 'o'\n",
    "glob_mark = 'v'"
   ]
  },
  {
   "cell_type": "code",
   "execution_count": null,
   "metadata": {
    "collapsed": true
   },
   "outputs": [],
   "source": [
    "to_draw = []"
   ]
  },
  {
   "cell_type": "code",
   "execution_count": null,
   "metadata": {
    "collapsed": true
   },
   "outputs": [],
   "source": [
    "opac = ['0','10','20','30','40','50','60','70','80','90','100']"
   ]
  },
  {
   "cell_type": "code",
   "execution_count": null,
   "metadata": {
    "collapsed": true
   },
   "outputs": [],
   "source": [
    "local_opt = [1,0.841,0.7,0.422,0.23,0.1,0.06,0.032,0.02,0.0175,0]\n",
    "local_opt =  [100 * i for i in local_opt]\n",
    "\n",
    "loc = {}\n",
    "loc ['x'] = opac\n",
    "loc ['y'] = local_opt\n",
    "loc ['label'] = loc_label\n",
    "loc ['mark'] = loc_mark\n",
    "\n",
    "# Global parameters \n",
    "loc ['xfmt'] = '%.0f%%'\n",
    "loc ['yfmt'] = '%.0f%%'\n",
    "loc ['xlab'] = \"Confidence($\\\\theta$)\"\n",
    "loc ['ylab'] = \"Edit Distance ratio (distortion)\"\n",
    "loc['file'] = 'Dist_L1_Dense.pdf'\n",
    "\n",
    "to_draw.append(loc)"
   ]
  },
  {
   "cell_type": "code",
   "execution_count": null,
   "metadata": {
    "collapsed": false
   },
   "outputs": [],
   "source": [
    "glob_opt = [1,0.917,0.859,0.81,0.73,0.67,0.12,0.09,0.023,0.0175,0]\n",
    "glob_opt =  [100 * i for i in glob_opt]\n",
    "\n",
    "loc = {}\n",
    "loc ['x'] = opac\n",
    "loc ['y'] = glob_opt\n",
    "loc ['label'] = glob_label\n",
    "loc ['mark'] = glob_mark\n",
    "to_draw.append(loc)"
   ]
  },
  {
   "cell_type": "code",
   "execution_count": null,
   "metadata": {
    "collapsed": false
   },
   "outputs": [],
   "source": [
    "pplot(to_draw)"
   ]
  },
  {
   "cell_type": "code",
   "execution_count": null,
   "metadata": {
    "collapsed": true
   },
   "outputs": [],
   "source": []
  },
  {
   "cell_type": "code",
   "execution_count": null,
   "metadata": {
    "collapsed": true
   },
   "outputs": [],
   "source": []
  },
  {
   "cell_type": "code",
   "execution_count": null,
   "metadata": {
    "collapsed": false
   },
   "outputs": [],
   "source": [
    "\n",
    "\n",
    "\n",
    "\n",
    "\n",
    "\n",
    "\n",
    "\n",
    "\n",
    "\n"
   ]
  },
  {
   "cell_type": "markdown",
   "metadata": {},
   "source": [
    "## Cuda Kernels"
   ]
  },
  {
   "cell_type": "code",
   "execution_count": null,
   "metadata": {
    "collapsed": true
   },
   "outputs": [],
   "source": []
  },
  {
   "cell_type": "code",
   "execution_count": null,
   "metadata": {
    "collapsed": true
   },
   "outputs": [],
   "source": [
    "@cuda.jit\n",
    "def increment_a_2D_array(an_array):\n",
    "    x = cuda.grid(1)\n",
    "    if x < an_array.shape[0]:\n",
    "        an_array[x] += 1"
   ]
  },
  {
   "cell_type": "code",
   "execution_count": null,
   "metadata": {
    "collapsed": true
   },
   "outputs": [],
   "source": [
    "@cuda.jit\n",
    "def red(array):\n",
    "    x = cuda.grid(1)\n",
    "    if x < an_array.shape[]"
   ]
  },
  {
   "cell_type": "code",
   "execution_count": null,
   "metadata": {
    "collapsed": true
   },
   "outputs": [],
   "source": [
    "sum_reduce = cuda.reduce(lambda a, b: b - a)"
   ]
  },
  {
   "cell_type": "code",
   "execution_count": null,
   "metadata": {
    "collapsed": true
   },
   "outputs": [],
   "source": []
  },
  {
   "cell_type": "code",
   "execution_count": null,
   "metadata": {
    "collapsed": true
   },
   "outputs": [],
   "source": []
  },
  {
   "cell_type": "code",
   "execution_count": null,
   "metadata": {
    "collapsed": true
   },
   "outputs": [],
   "source": []
  },
  {
   "cell_type": "markdown",
   "metadata": {},
   "source": [
    "## Kernel execution"
   ]
  },
  {
   "cell_type": "code",
   "execution_count": null,
   "metadata": {
    "collapsed": false
   },
   "outputs": [],
   "source": [
    "file_name = 'graph.txt'"
   ]
  },
  {
   "cell_type": "code",
   "execution_count": null,
   "metadata": {
    "collapsed": true
   },
   "outputs": [],
   "source": [
    "# Read File\n",
    "f = open(file_name, \"r\")\n",
    "n, m = [int(x) for x in f.readline().split()] # read first line\n",
    "# add nodes\n",
    "edge_list_from = []\n",
    "edge_list_to= []\n",
    "edge_list = []\n",
    "# add edges \n",
    "degrees = [0 for i in range(0, n+1)] \n",
    "for line in f: # read rest of lines\n",
    "    a1, a2 = [int(x) for x in line.split()]\n",
    "    degrees[a1] += 1\n",
    "    degrees[a2] += 1\n",
    "    edge_list_from.append(a1)\n",
    "    edge_list_to.append(a2)\n",
    "    edge_list.append((a1, a2))\n",
    "edge_list_from = np.array(edge_list_from)\n",
    "edge_list_to = np.array(edge_list_to)\n",
    "\n",
    "    "
   ]
  },
  {
   "cell_type": "code",
   "execution_count": null,
   "metadata": {
    "collapsed": false
   },
   "outputs": [],
   "source": [
    "# Main graph\n",
    "# g = nx.Graph(edge_list)"
   ]
  },
  {
   "cell_type": "code",
   "execution_count": null,
   "metadata": {
    "collapsed": false
   },
   "outputs": [],
   "source": []
  },
  {
   "cell_type": "code",
   "execution_count": null,
   "metadata": {
    "collapsed": false
   },
   "outputs": [],
   "source": [
    "print(\"Processing graph with:\")\n",
    "print(\"   Vertex number : \", n)\n",
    "print(\"   Edges number : \", m)\n",
    "print()"
   ]
  },
  {
   "cell_type": "code",
   "execution_count": null,
   "metadata": {
    "collapsed": false
   },
   "outputs": [],
   "source": [
    "assert(len(edge_list_from) == m)\n",
    "assert(np.max(edge_list_from) == n-1 or np.max(edge_list_to) == n-1 )"
   ]
  },
  {
   "cell_type": "code",
   "execution_count": null,
   "metadata": {
    "collapsed": true
   },
   "outputs": [],
   "source": []
  },
  {
   "cell_type": "code",
   "execution_count": null,
   "metadata": {
    "collapsed": true
   },
   "outputs": [],
   "source": []
  },
  {
   "cell_type": "code",
   "execution_count": null,
   "metadata": {
    "collapsed": true
   },
   "outputs": [],
   "source": []
  },
  {
   "cell_type": "code",
   "execution_count": null,
   "metadata": {
    "collapsed": false
   },
   "outputs": [],
   "source": [
    "ary = numpy.zeros(2**20, dtype='int8')\n",
    "d_ary = cuda.to_device(ary)"
   ]
  },
  {
   "cell_type": "code",
   "execution_count": null,
   "metadata": {
    "collapsed": true
   },
   "outputs": [],
   "source": [
    "threadsperblock = 512\n",
    "blockspergrid_x = math.ceil(an_array.shape[0] / threadsperblock)\n",
    "#blockspergrid_y = math.ceil(an_array.shape[1] / threadsperblock[1])\n",
    "blockspergrid = blockspergrid_x # , blockspergrid_y)"
   ]
  },
  {
   "cell_type": "code",
   "execution_count": null,
   "metadata": {
    "collapsed": false
   },
   "outputs": [],
   "source": [
    "start = time()\n",
    "increment_a_2D_array[blockspergrid, threadsperblock](ary)\n",
    "print(\"Numba time CUDA \", time()-start)"
   ]
  },
  {
   "cell_type": "code",
   "execution_count": null,
   "metadata": {
    "collapsed": false
   },
   "outputs": [],
   "source": [
    "start = time()\n",
    "increment_a_2D_array[blockspergrid, threadsperblock](d_ary)\n",
    "print(\"Numba time CUDA \", time()-start)"
   ]
  },
  {
   "cell_type": "code",
   "execution_count": null,
   "metadata": {
    "collapsed": false
   },
   "outputs": [],
   "source": [
    "start = time()\n",
    "ary += 1\n",
    "print(time()-start)"
   ]
  },
  {
   "cell_type": "code",
   "execution_count": null,
   "metadata": {
    "collapsed": false
   },
   "outputs": [],
   "source": [
    "print(ary)"
   ]
  },
  {
   "cell_type": "code",
   "execution_count": null,
   "metadata": {
    "collapsed": false
   },
   "outputs": [],
   "source": [
    "print(numba.cuda.cudadrv.driver.C)"
   ]
  },
  {
   "cell_type": "code",
   "execution_count": null,
   "metadata": {
    "collapsed": true
   },
   "outputs": [],
   "source": []
  },
  {
   "cell_type": "code",
   "execution_count": null,
   "metadata": {
    "collapsed": true
   },
   "outputs": [],
   "source": [
    "import numpy"
   ]
  },
  {
   "cell_type": "code",
   "execution_count": null,
   "metadata": {
    "collapsed": true
   },
   "outputs": [],
   "source": []
  },
  {
   "cell_type": "code",
   "execution_count": null,
   "metadata": {
    "collapsed": false
   },
   "outputs": [],
   "source": [
    "import pycuda.autoinit\n",
    "import pycuda.gpuarray as gpuarray\n",
    "import pycuda.driver as drv\n",
    "import numpy as np\n",
    "\n",
    "import skcuda.linalg as culinalg\n",
    "import skcuda.misc as cumisc\n",
    "culinalg.init()\n",
    "\n",
    "# Double precision is only supported by devices with compute\n",
    "# capability >= 1.3:\n",
    "import string\n",
    "demo_types = [np.float32, np.complex64]\n",
    "if cumisc.get_compute_capability(pycuda.autoinit.device) >= 1.3:\n",
    "    demo_types.extend([np.float64, np.complex128])\n",
    "\n",
    "for t in demo_types:\n",
    "    print('Testing matrix multiplication for type ' + str(np.dtype(t)))\n",
    "    if np.iscomplexobj(t()):\n",
    "        a = np.asarray(np.random.rand(10, 5) + 1j * np.random.rand(10, 5), t)\n",
    "        b = np.asarray(np.random.rand(5, 5) + 1j * np.random.rand(5, 5), t)\n",
    "        c = np.asarray(np.random.rand(5, 5) + 1j * np.random.rand(5, 5), t)\n",
    "    else:\n",
    "        a = np.asarray(np.random.rand(10, 5), t)\n",
    "        b = np.asarray(np.random.rand(5, 5), t)\n",
    "        c = np.asarray(np.random.rand(5, 5), t)\n",
    "\n",
    "    a_gpu = gpuarray.to_gpu(a)\n",
    "    b_gpu = gpuarray.to_gpu(b)\n",
    "    c_gpu = gpuarray.to_gpu(c)\n",
    "\n",
    "    temp_gpu = culinalg.dot(a_gpu, b_gpu)\n",
    "    d_gpu = culinalg.dot(temp_gpu, c_gpu)\n",
    "    temp_gpu.gpudata.free()\n",
    "    del(temp_gpu)\n",
    "    print('Success status: ', np.allclose(np.dot(np.dot(a, b), c), d_gpu.get()))\n",
    "\n",
    "    print('Testing vector multiplication for type ' + str(np.dtype(t)))\n",
    "    if np.iscomplexobj(t()):\n",
    "        d = np.asarray(np.random.rand(5) + 1j * np.random.rand(5), t)\n",
    "        e = np.asarray(np.random.rand(5) + 1j * np.random.rand(5), t)\n",
    "    else:\n",
    "        d = np.asarray(np.random.rand(5), t)\n",
    "        e = np.asarray(np.random.rand(5), t)\n",
    "\n",
    "    d_gpu = gpuarray.to_gpu(d)\n",
    "    e_gpu = gpuarray.to_gpu(e)\n",
    "\n",
    "    temp = culinalg.dot(d_gpu, e_gpu)\n",
    "    print('Success status: ', np.allclose(np.dot(d, e), temp))"
   ]
  },
  {
   "cell_type": "code",
   "execution_count": null,
   "metadata": {
    "collapsed": false
   },
   "outputs": [],
   "source": []
  },
  {
   "cell_type": "code",
   "execution_count": null,
   "metadata": {
    "collapsed": true
   },
   "outputs": [],
   "source": [
    "from __future__ import division\n",
    "import time\n",
    "import numpy as np\n",
    "import cudamat as cm"
   ]
  },
  {
   "cell_type": "code",
   "execution_count": null,
   "metadata": {
    "collapsed": true
   },
   "outputs": [],
   "source": [
    "from time import time"
   ]
  },
  {
   "cell_type": "code",
   "execution_count": null,
   "metadata": {
    "collapsed": false
   },
   "outputs": [],
   "source": [
    "import numpy as np\n",
    "import cudamat as cm\n",
    "\n",
    "cm.cublas_init()\n",
    "\n",
    "# create two random matrices and copy them to the GPU\n",
    "i1 = 10\n",
    "i2 = 20\n",
    "\n",
    "k = np.random.rand(2**i1, 2**i2)\n",
    "k2 = np.random.rand(2**i2, 2**i1)\n",
    "\n",
    "a = cm.CUDAMatrix(k)\n",
    "b = cm.CUDAMatrix(k2)\n",
    "\n",
    "# perform calculations on the GPU\n",
    "st = time()\n",
    "c = cm.dot(a, b)\n",
    "d = c.sum(axis = 0)\n",
    "print(\"GPU calc\", time()-st)\n",
    "\n",
    "st = time()\n",
    "c1 = np.dot(k, k2)\n",
    "d1 = c1.sum(axis = 0)\n",
    "print(\"CPU calc\", time()-st)\n",
    "\n"
   ]
  },
  {
   "cell_type": "code",
   "execution_count": null,
   "metadata": {
    "collapsed": false
   },
   "outputs": [],
   "source": [
    "import numpy as np\n",
    "import pycuda.driver as cuda\n",
    "import pycuda.autoinit\n",
    "from pycuda.compiler import SourceModule\n",
    "\n",
    "cuda_string = \"\"\"__device__ void  saxpy(double* s, float a, long* p, int b, long* q){\n",
    "int tx = threadIdx.x;\n",
    "s[tx] = a*p[tx]+b*q[tx];\n",
    "}\n",
    "__global__ void  sub(long* p, long* q, long* d){\n",
    "int tx = threadIdx.x;\n",
    "p[tx] = 2*p[tx];\n",
    "d[tx] = p[tx]-q[tx];\n",
    "}\n",
    "__device__ long add(long p, long q){\n",
    "p = p+1;\n",
    "return p+q;\n",
    "}\n",
    "__global__ void math( long* a, long* b, long* c, long* d, long* e, double* f){\n",
    "int tx = threadIdx.x;\n",
    "__shared__ long x[100];\n",
    "x[tx] = a[tx + 0];\n",
    "__shared__ long y[100];\n",
    "y[tx] = b[tx + 0];\n",
    "c[tx]=add(x[tx],y[tx]); \n",
    "dim3 dimGrid_sub(1,1,1);\n",
    "dim3 dimBlock_sub(100,1,1);\n",
    "sub<<<dimGrid_sub,dimBlock_sub>>>(a,b,d);\n",
    "saxpy(f,1.0345,x,-2,y); \n",
    "}\n",
    "\"\"\"\n",
    "\n",
    "def math(a,b,c,d,e,f):\n",
    "    a_gpu = cuda.mem_alloc(a.nbytes)\n",
    "    b_gpu = cuda.mem_alloc(b.nbytes)\n",
    "    c_gpu = cuda.mem_alloc(c.nbytes)\n",
    "    d_gpu = cuda.mem_alloc(d.nbytes)\n",
    "    e_gpu = cuda.mem_alloc(e.nbytes)\n",
    "    f_gpu = cuda.mem_alloc(f.nbytes)\n",
    "\n",
    "    cuda.memcpy_htod(a_gpu,a)\n",
    "    cuda.memcpy_htod(b_gpu,b)\n",
    "\n",
    "    mod = SourceModule(cuda_string,options=['-rdc=true','-lcudadevrt'])\n",
    "    func = mod.get_function(\"math\")\n",
    "    func(a_gpu,b_gpu,c_gpu,d_gpu,e_gpu,f_gpu,block=(100,1,1),grid=(1,1,1))\n",
    "\n",
    "    cuda.memcpy_dtoh(c,c_gpu)\n",
    "    cuda.memcpy_dtoh(d,d_gpu)\n",
    "    cuda.memcpy_dtoh(e,e_gpu)\n",
    "    cuda.memcpy_dtoh(f,f_gpu)\n",
    "\n",
    "    print(c,d,e,f)\n",
    "\n",
    "a = np.random.randint(10, size = 100)\n",
    "b = np.random.randint(10, size = 100)\n",
    "c = np.empty_like(a)\n",
    "d = np.empty_like(a)\n",
    "e = np.empty_like(a)\n",
    "f = np.array(a, dtype = 'd')\n",
    "\n",
    "math(a,b,c,d,e,f)"
   ]
  },
  {
   "cell_type": "code",
   "execution_count": null,
   "metadata": {
    "collapsed": true
   },
   "outputs": [],
   "source": [
    "import os\n",
    "os.environ[\"PATH\"] = \"/usr/local/sbin:/usr/local/bin:/usr/sbin:/sbin:/bin:/usr/local/cuda-7.5/bin:/usr/local/cuda-7.5\""
   ]
  },
  {
   "cell_type": "code",
   "execution_count": null,
   "metadata": {
    "collapsed": true
   },
   "outputs": [],
   "source": [
    "os.environ[\"LD_LIBRARY_PATH\"] = \"/usr/local/cuda-7.5/lib64\""
   ]
  },
  {
   "cell_type": "code",
   "execution_count": null,
   "metadata": {
    "collapsed": false
   },
   "outputs": [],
   "source": [
    "import numpy as np\n",
    "import pycuda.driver as cuda\n",
    "from pycuda.compiler import SourceModule\n",
    "import pycuda.autoinit\n",
    "\n",
    "cudaCodeString = \"\"\"\n",
    "__global__ void ChildKernel(int* data){\n",
    " //Operate on data\n",
    " int i = threadIdx.x;\n",
    " data[i] += 1;\n",
    "}\n",
    "\n",
    "__global__ void ParentKernel(int *data){\n",
    " if (threadIdx.x == 0) {\n",
    " ChildKernel<<<1, 32>>>(data);\n",
    " // cudaThreadSynchronize();\n",
    " }\n",
    " __syncthreads();\n",
    " //Operate on data\n",
    "}\n",
    "\"\"\"\n",
    "cudaCode = SourceModule(cudaCodeString, options=['-rdc=true'  ] )"
   ]
  },
  {
   "cell_type": "code",
   "execution_count": null,
   "metadata": {
    "collapsed": false
   },
   "outputs": [],
   "source": [
    "from cythrust.describe import describe\n",
    "import numpy as np\n",
    "import pandas as pd\n",
    "\n",
    "np.random.seed(42)\n",
    "N = 1e6\n",
    "v = np.random.randint(1, 5, size=N).astype(np.uint8)\n",
    "%timeit describe(v)\n",
    "%timeit pd.Series(v).describe()"
   ]
  },
  {
   "cell_type": "code",
   "execution_count": null,
   "metadata": {
    "collapsed": true
   },
   "outputs": [],
   "source": []
  }
 ],
 "metadata": {
  "kernelspec": {
   "display_name": "Python 3",
   "language": "python",
   "name": "python3"
  },
  "language_info": {
   "codemirror_mode": {
    "name": "ipython",
    "version": 3
   },
   "file_extension": ".py",
   "mimetype": "text/x-python",
   "name": "python",
   "nbconvert_exporter": "python",
   "pygments_lexer": "ipython3",
   "version": "3.5.1"
  }
 },
 "nbformat": 4,
 "nbformat_minor": 0
}
